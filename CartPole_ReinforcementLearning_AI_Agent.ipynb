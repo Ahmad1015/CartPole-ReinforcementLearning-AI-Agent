{
  "nbformat": 4,
  "nbformat_minor": 0,
  "metadata": {
    "colab": {
      "provenance": [],
      "gpuType": "T4"
    },
    "kernelspec": {
      "name": "python3",
      "display_name": "Python 3"
    },
    "language_info": {
      "name": "python"
    },
    "accelerator": "GPU"
  },
  "cells": [
    {
      "cell_type": "markdown",
      "source": [
        "# **Installing Missing Libraries**"
      ],
      "metadata": {
        "id": "sGORxsUhuVq3"
      }
    },
    {
      "cell_type": "code",
      "execution_count": 11,
      "metadata": {
        "colab": {
          "base_uri": "https://localhost:8080/"
        },
        "id": "KZ2ExC-4ty7p",
        "outputId": "881f5cd1-bb23-4b1e-b4eb-456af370813f"
      },
      "outputs": [
        {
          "output_type": "stream",
          "name": "stdout",
          "text": [
            "Requirement already satisfied: gymnasium in /usr/local/lib/python3.10/dist-packages (0.29.1)\n",
            "Requirement already satisfied: numpy>=1.21.0 in /usr/local/lib/python3.10/dist-packages (from gymnasium) (1.25.2)\n",
            "Requirement already satisfied: cloudpickle>=1.2.0 in /usr/local/lib/python3.10/dist-packages (from gymnasium) (2.2.1)\n",
            "Requirement already satisfied: typing-extensions>=4.3.0 in /usr/local/lib/python3.10/dist-packages (from gymnasium) (4.12.2)\n",
            "Requirement already satisfied: farama-notifications>=0.0.1 in /usr/local/lib/python3.10/dist-packages (from gymnasium) (0.0.4)\n",
            "Requirement already satisfied: gymnasium[accept-rom-license,atari] in /usr/local/lib/python3.10/dist-packages (0.29.1)\n",
            "Requirement already satisfied: numpy>=1.21.0 in /usr/local/lib/python3.10/dist-packages (from gymnasium[accept-rom-license,atari]) (1.25.2)\n",
            "Requirement already satisfied: cloudpickle>=1.2.0 in /usr/local/lib/python3.10/dist-packages (from gymnasium[accept-rom-license,atari]) (2.2.1)\n",
            "Requirement already satisfied: typing-extensions>=4.3.0 in /usr/local/lib/python3.10/dist-packages (from gymnasium[accept-rom-license,atari]) (4.12.2)\n",
            "Requirement already satisfied: farama-notifications>=0.0.1 in /usr/local/lib/python3.10/dist-packages (from gymnasium[accept-rom-license,atari]) (0.0.4)\n",
            "Requirement already satisfied: shimmy[atari]<1.0,>=0.1.0 in /usr/local/lib/python3.10/dist-packages (from gymnasium[accept-rom-license,atari]) (0.2.1)\n",
            "Requirement already satisfied: autorom[accept-rom-license]~=0.4.2 in /usr/local/lib/python3.10/dist-packages (from gymnasium[accept-rom-license,atari]) (0.4.2)\n",
            "Requirement already satisfied: click in /usr/local/lib/python3.10/dist-packages (from autorom[accept-rom-license]~=0.4.2->gymnasium[accept-rom-license,atari]) (8.1.7)\n",
            "Requirement already satisfied: requests in /usr/local/lib/python3.10/dist-packages (from autorom[accept-rom-license]~=0.4.2->gymnasium[accept-rom-license,atari]) (2.31.0)\n",
            "Requirement already satisfied: tqdm in /usr/local/lib/python3.10/dist-packages (from autorom[accept-rom-license]~=0.4.2->gymnasium[accept-rom-license,atari]) (4.66.4)\n",
            "Requirement already satisfied: AutoROM.accept-rom-license in /usr/local/lib/python3.10/dist-packages (from autorom[accept-rom-license]~=0.4.2->gymnasium[accept-rom-license,atari]) (0.6.1)\n",
            "Requirement already satisfied: ale-py~=0.8.1 in /usr/local/lib/python3.10/dist-packages (from shimmy[atari]<1.0,>=0.1.0->gymnasium[accept-rom-license,atari]) (0.8.1)\n",
            "Requirement already satisfied: importlib-resources in /usr/local/lib/python3.10/dist-packages (from ale-py~=0.8.1->shimmy[atari]<1.0,>=0.1.0->gymnasium[accept-rom-license,atari]) (6.4.0)\n",
            "Requirement already satisfied: charset-normalizer<4,>=2 in /usr/local/lib/python3.10/dist-packages (from requests->autorom[accept-rom-license]~=0.4.2->gymnasium[accept-rom-license,atari]) (3.3.2)\n",
            "Requirement already satisfied: idna<4,>=2.5 in /usr/local/lib/python3.10/dist-packages (from requests->autorom[accept-rom-license]~=0.4.2->gymnasium[accept-rom-license,atari]) (3.7)\n",
            "Requirement already satisfied: urllib3<3,>=1.21.1 in /usr/local/lib/python3.10/dist-packages (from requests->autorom[accept-rom-license]~=0.4.2->gymnasium[accept-rom-license,atari]) (2.0.7)\n",
            "Requirement already satisfied: certifi>=2017.4.17 in /usr/local/lib/python3.10/dist-packages (from requests->autorom[accept-rom-license]~=0.4.2->gymnasium[accept-rom-license,atari]) (2024.6.2)\n",
            "Reading package lists... Done\n",
            "Building dependency tree... Done\n",
            "Reading state information... Done\n",
            "swig is already the newest version (4.0.2-1ubuntu1).\n",
            "0 upgraded, 0 newly installed, 0 to remove and 45 not upgraded.\n",
            "Requirement already satisfied: gymnasium[classic-control] in /usr/local/lib/python3.10/dist-packages (0.29.1)\n",
            "Requirement already satisfied: numpy>=1.21.0 in /usr/local/lib/python3.10/dist-packages (from gymnasium[classic-control]) (1.25.2)\n",
            "Requirement already satisfied: cloudpickle>=1.2.0 in /usr/local/lib/python3.10/dist-packages (from gymnasium[classic-control]) (2.2.1)\n",
            "Requirement already satisfied: typing-extensions>=4.3.0 in /usr/local/lib/python3.10/dist-packages (from gymnasium[classic-control]) (4.12.2)\n",
            "Requirement already satisfied: farama-notifications>=0.0.1 in /usr/local/lib/python3.10/dist-packages (from gymnasium[classic-control]) (0.0.4)\n",
            "Requirement already satisfied: pygame>=2.1.3 in /usr/local/lib/python3.10/dist-packages (from gymnasium[classic-control]) (2.6.0)\n"
          ]
        }
      ],
      "source": [
        "!pip install gymnasium\n",
        "!pip install \"gymnasium[atari,accept-rom-license]\"\n",
        "!apt-get install -y swig\n",
        "!pip install gymnasium[classic-control]"
      ]
    },
    {
      "cell_type": "markdown",
      "source": [
        "# Importing the libraries"
      ],
      "metadata": {
        "id": "4W994IoUudhx"
      }
    },
    {
      "cell_type": "code",
      "source": [
        "import os\n",
        "import random\n",
        "import numpy as np\n",
        "import torch\n",
        "import torch.nn as nn\n",
        "import torch.optim as optim\n",
        "import torch.nn.functional as F\n",
        "import torch.autograd as autograd\n",
        "from torch.autograd import Variable\n",
        "from collections import deque , namedtuple\n"
      ],
      "metadata": {
        "id": "y5l0ZK5LuQ2b"
      },
      "execution_count": 12,
      "outputs": []
    },
    {
      "cell_type": "markdown",
      "source": [
        "# Building A.I"
      ],
      "metadata": {
        "id": "w3LXOchKu5Ds"
      }
    },
    {
      "cell_type": "markdown",
      "source": [
        "# Creating the Architecture of the Nueral Network"
      ],
      "metadata": {
        "id": "beYaJqaAu-M1"
      }
    },
    {
      "cell_type": "code",
      "source": [
        "class Network(nn.Module):\n",
        "  def __init__(self,state_size,action_size,seed=42):\n",
        "    super(Network,self).__init__()\n",
        "    self.seed = torch.manual_seed(seed)\n",
        "    self.fc1 = nn.Linear(state_size,128)\n",
        "    self.fc2 = nn.Linear(128,128)\n",
        "    self.fc3 = nn.Linear(128,128)\n",
        "    self.fc4 = nn.Linear(128,action_size)\n",
        "\n",
        "  def forward(self,state):\n",
        "    x = self.fc1(state)\n",
        "    x = F.relu(x)\n",
        "    x = self.fc2(x)\n",
        "    x = F.relu(x)\n",
        "    X = self.fc3(x)\n",
        "    x = F.relu(x)\n",
        "\n",
        "    return self.fc4(x)\n"
      ],
      "metadata": {
        "id": "TlHvS8Ggu7fS"
      },
      "execution_count": 13,
      "outputs": []
    },
    {
      "cell_type": "markdown",
      "source": [
        "# Training The AI"
      ],
      "metadata": {
        "id": "IoO4kdiYv4ib"
      }
    },
    {
      "cell_type": "markdown",
      "source": [
        "# Setting up the environment"
      ],
      "metadata": {
        "id": "KNifjXrwv6zu"
      }
    },
    {
      "cell_type": "code",
      "source": [
        "import gymnasium as gym\n",
        "\n",
        "env = gym.make('CartPole-v1')\n",
        "state_shape = env.observation_space.shape\n",
        "state_size = env.observation_space.shape[0]\n",
        "\n",
        "\n",
        "action_shape = env.action_space.shape\n",
        "number_actions = env.action_space.n\n"
      ],
      "metadata": {
        "id": "uuKdgGEDv53H"
      },
      "execution_count": 14,
      "outputs": []
    },
    {
      "cell_type": "markdown",
      "source": [
        "# Initializing the hyperparameters"
      ],
      "metadata": {
        "id": "1JZCalH3xE_1"
      }
    },
    {
      "cell_type": "code",
      "source": [
        "learning_rate = 7e-4\n",
        "minibatch_size = 200\n",
        "discount_factor = 0.999\n",
        "replay_buffer_size = int(3e5)\n",
        "interpolation_parameter = 1e-3"
      ],
      "metadata": {
        "id": "GG-a5mwpw_AS"
      },
      "execution_count": 15,
      "outputs": []
    },
    {
      "cell_type": "markdown",
      "source": [
        "# Implementing Experience Replay"
      ],
      "metadata": {
        "id": "hPtYfiidxTWi"
      }
    },
    {
      "cell_type": "code",
      "source": [
        "class ReplayMemory(object):\n",
        "  def __init__(self,capacity):\n",
        "    self.device = torch.device(\"cuda\" if torch.cuda.is_available() else \"cpu\")\n",
        "    self.capacity = capacity\n",
        "    self.memory = []\n",
        "\n",
        "  def push(self,event):\n",
        "    self.memory.append(event)\n",
        "    if len(self.memory)>self.capacity:\n",
        "      del self.memory[0]\n",
        "\n",
        "  def sample(self,batch_size):\n",
        "    experiences = random.sample(self.memory,k=batch_size)\n",
        "    states = torch.from_numpy(np.vstack([e[0] for e in experiences if e is not None])).float().to(self.device)\n",
        "    actions = torch.from_numpy(np.vstack([e[1] for e in experiences if e is not None])).long().to(self.device)\n",
        "    rewards = torch.from_numpy(np.vstack([e[2] for e in experiences if e is not None])).float().to(self.device)\n",
        "    next_states = torch.from_numpy(np.vstack([e[3] for e in experiences if e is not None])).float().to(self.device)\n",
        "    dones = torch.from_numpy(np.vstack([e[4] for e in experiences if e is not None]).astype(np.uint8)).float().to(self.device)\n",
        "    return states , next_states , actions , rewards , dones\n"
      ],
      "metadata": {
        "id": "L_NobuCNxV1G"
      },
      "execution_count": 16,
      "outputs": []
    },
    {
      "cell_type": "markdown",
      "source": [
        "# Implementing the DQN Class"
      ],
      "metadata": {
        "id": "KgG4j7qFzO6t"
      }
    },
    {
      "cell_type": "code",
      "source": [
        "class Agent():\n",
        "  def __init__(self,state_size,action_size):\n",
        "    self.device = torch.device(\"cuda\" if torch.cuda.is_available() else \"cpu\")\n",
        "    self.state_size = state_size\n",
        "    self.action_size = action_size\n",
        "    self.local_qnetwork = Network(state_size,action_size).to(self.device)\n",
        "    self.target_qnetwork = Network(state_size,action_size).to(self.device)\n",
        "    self.optimizer = optim.Adam(self.local_qnetwork.parameters(),lr=learning_rate)\n",
        "    self.memory = ReplayMemory(replay_buffer_size)\n",
        "    self.t_step = 0\n",
        "\n",
        "  def step(self,states,actions,rewards,next_states,dones):\n",
        "    self.memory.push((states,actions,rewards,next_states,dones))\n",
        "    self.t_step = (self.t_step +1) % 4\n",
        "    if self.t_step == 0:\n",
        "      if len(self.memory.memory) > minibatch_size:\n",
        "        experiences = self.memory.sample(100)\n",
        "        self.learn(experiences,discount_factor)\n",
        "\n",
        "  def act(self,state,epsilon=0.):\n",
        "    state = torch.from_numpy(state).float().unsqueeze(0).to(self.device)\n",
        "    self.local_qnetwork.eval()\n",
        "    with torch.no_grad():\n",
        "      action_values = self.local_qnetwork(state)\n",
        "    self.local_qnetwork.train()\n",
        "    if random.random()>epsilon:\n",
        "      return np.argmax(action_values.cpu().data.numpy())\n",
        "    else:\n",
        "      return random.choice(np.arange(self.action_size))\n",
        "\n",
        "  def learn(self,experiences,discount_factor):\n",
        "    states,next_states,actions,rewards,dones = experiences\n",
        "    next_q_targets = self.target_qnetwork(next_states).detach().max(1)[0].unsqueeze(1)\n",
        "    q_targets = rewards + discount_factor * next_q_targets * (1 - dones)\n",
        "    q_expected = self.local_qnetwork(states).gather(1, actions)\n",
        "    loss = F.mse_loss(q_expected, q_targets)\n",
        "    self.optimizer.zero_grad()\n",
        "    loss.backward()\n",
        "    self.optimizer.step()\n",
        "    self.soft_update(self.local_qnetwork, self.target_qnetwork, interpolation_parameter)\n",
        "\n",
        "  def soft_update(self, local_model, target_model, interpolation_parameter):\n",
        "    for target_param, local_param in zip(target_model.parameters(), local_model.parameters()):\n",
        "      target_param.data.copy_(interpolation_parameter * local_param.data + (1.0 - interpolation_parameter) * target_param.data)"
      ],
      "metadata": {
        "id": "Y2fsjqmEzRbA"
      },
      "execution_count": 17,
      "outputs": []
    },
    {
      "cell_type": "markdown",
      "source": [
        "# Initializing the DQN agent"
      ],
      "metadata": {
        "id": "YMwJoGKZ2Dx7"
      }
    },
    {
      "cell_type": "code",
      "source": [
        "agent = Agent(state_size,number_actions)"
      ],
      "metadata": {
        "id": "3vCov0mc2GMR"
      },
      "execution_count": 18,
      "outputs": []
    },
    {
      "cell_type": "markdown",
      "source": [
        "# Training the DQN agent"
      ],
      "metadata": {
        "id": "AxhStckC2Le_"
      }
    },
    {
      "cell_type": "code",
      "source": [
        "number_episodes = 5000\n",
        "maximum_number_timesteps_per_episode = 500\n",
        "epsilon_starting_value  = 1.0\n",
        "epsilon_ending_value  = 0.01\n",
        "epsilon_decay_value  = 0.995\n",
        "epsilon = epsilon_starting_value\n",
        "scores_on_100_episodes = deque(maxlen = 100)\n",
        "\n",
        "\n",
        "for episode in range(1, number_episodes + 1):\n",
        "  state, _ = env.reset()\n",
        "  score = 0\n",
        "  for t in range(maximum_number_timesteps_per_episode):\n",
        "    action = agent.act(state, epsilon)\n",
        "    next_state, reward, done, _, _ = env.step(action)\n",
        "    reward = next_state[0] + 1  # reward shaping\n",
        "    agent.step(state, action, reward, next_state, done)\n",
        "    state = next_state\n",
        "    score += reward\n",
        "    if done:\n",
        "      break\n",
        "  scores_on_100_episodes.append(score)\n",
        "  epsilon = max(epsilon_ending_value, epsilon_decay_value * epsilon)\n",
        "  print('\\rEpisode {}\\tAverage Score: {:}'.format(episode, np.mean(scores_on_100_episodes)), end = \"\")\n",
        "  if episode % 100 == 0:\n",
        "    print('\\rEpisode {}\\tAverage Score: {:}'.format(episode, np.mean(scores_on_100_episodes)))\n",
        "  if np.mean(scores_on_100_episodes) >= 500.0:\n",
        "    print('\\nEnvironment solved in {:d} episodes!\\tAverage Score: {:.2f}'.format(episode - 100, np.mean(scores_on_100_episodes)))\n",
        "    torch.save(agent.local_qnetwork.state_dict(), 'checkpoint.pth')\n",
        "    break"
      ],
      "metadata": {
        "colab": {
          "base_uri": "https://localhost:8080/"
        },
        "id": "M_995hwj2NO8",
        "outputId": "00d273e1-3276-4c63-ab1e-4e75f7921284"
      },
      "execution_count": 19,
      "outputs": [
        {
          "output_type": "stream",
          "name": "stdout",
          "text": [
            "Episode 100\tAverage Score: 21.985259739640387\n",
            "Episode 200\tAverage Score: 15.510880373504842\n",
            "Episode 300\tAverage Score: 13.890973984337906\n",
            "Episode 400\tAverage Score: 11.956956088752559\n",
            "Episode 500\tAverage Score: 13.628697000426564\n",
            "Episode 600\tAverage Score: 18.219508850630117\n",
            "Episode 700\tAverage Score: 53.88295670954729\n",
            "Episode 800\tAverage Score: 51.48509303176115\n",
            "Episode 900\tAverage Score: 50.31763643242931\n",
            "Episode 1000\tAverage Score: 51.351732606070726\n",
            "Episode 1100\tAverage Score: 52.638368130868386\n",
            "Episode 1200\tAverage Score: 53.70233652528201\n",
            "Episode 1300\tAverage Score: 55.06225647075011\n",
            "Episode 1400\tAverage Score: 57.72396619961004\n",
            "Episode 1500\tAverage Score: 60.29289575309813\n",
            "Episode 1600\tAverage Score: 78.18646330191748\n",
            "Episode 1700\tAverage Score: 94.14711984509347\n",
            "Episode 1800\tAverage Score: 186.22433741888264\n",
            "Episode 1900\tAverage Score: 259.1615429750125\n",
            "Episode 2000\tAverage Score: 258.5459422231513\n",
            "Episode 2100\tAverage Score: 231.70998946231674\n",
            "Episode 2200\tAverage Score: 222.10715632726874\n",
            "Episode 2300\tAverage Score: 215.24509326355795\n",
            "Episode 2400\tAverage Score: 213.27321841578058\n",
            "Episode 2500\tAverage Score: 208.75942113207736\n",
            "Episode 2600\tAverage Score: 206.51291498566184\n",
            "Episode 2700\tAverage Score: 202.97077483730013\n",
            "Episode 2800\tAverage Score: 200.55142836409013\n",
            "Episode 2900\tAverage Score: 199.33890164402223\n",
            "Episode 3000\tAverage Score: 200.5293121782222\n",
            "Episode 3100\tAverage Score: 207.94597055588957\n",
            "Episode 3200\tAverage Score: 215.24301182015202\n",
            "Episode 3300\tAverage Score: 225.20780218516657\n",
            "Episode 3400\tAverage Score: 238.4552767133055\n",
            "Episode 3500\tAverage Score: 250.01660490813657\n",
            "Episode 3600\tAverage Score: 271.7834975811316\n",
            "Episode 3700\tAverage Score: 291.5749883477543\n",
            "Episode 3800\tAverage Score: 316.04304798516966\n",
            "Episode 3900\tAverage Score: 280.82656228788875\n",
            "Episode 4000\tAverage Score: 377.62457843205027\n",
            "Episode 4100\tAverage Score: 404.2990582160416\n",
            "Episode 4200\tAverage Score: 423.22593076468337\n",
            "Episode 4300\tAverage Score: 440.03398037475534\n",
            "Episode 4400\tAverage Score: 455.78451394558084\n",
            "Episode 4500\tAverage Score: 462.4891440136709\n",
            "Episode 4570\tAverage Score: 500.0498044695157\n",
            "Environment solved in 4470 episodes!\tAverage Score: 500.05\n"
          ]
        }
      ]
    },
    {
      "cell_type": "markdown",
      "source": [
        "# Visualizing the Result"
      ],
      "metadata": {
        "id": "zEvPJ1Uv2Sap"
      }
    },
    {
      "cell_type": "code",
      "source": [
        "import glob\n",
        "import io\n",
        "import base64\n",
        "import imageio\n",
        "from IPython.display import HTML, display\n",
        "import os\n",
        "\n",
        "def show_video_of_model(agent, env_name, max_frames=1000):\n",
        "    env = gym.make(env_name, render_mode='rgb_array')\n",
        "    state, _ = env.reset()\n",
        "    done = False\n",
        "    frame_number = 0\n",
        "\n",
        "    while not done and frame_number < max_frames:\n",
        "        frame = env.render()\n",
        "        imageio.imwrite(f'frame_{frame_number}.png', frame)\n",
        "        frame_number += 1\n",
        "        action = agent.act(state)\n",
        "        state, reward, done, _, _ = env.step(action)\n",
        "\n",
        "    env.close()\n",
        "\n",
        "    with imageio.get_writer('Cart-Pole.mp4', fps=30) as video_writer:\n",
        "        for i in range(frame_number):\n",
        "            frame = imageio.imread(f'frame_{i}.png')\n",
        "            video_writer.append_data(frame)\n",
        "\n",
        "    # Clean up the individual frame files\n",
        "    for i in range(frame_number):\n",
        "        os.remove(f'frame_{i}.png')\n",
        "\n",
        "def show_video():\n",
        "    mp4list = glob.glob('*.mp4')\n",
        "    if len(mp4list) > 0:\n",
        "        mp4 = mp4list[0]\n",
        "        video = io.open(mp4, 'r+b').read()\n",
        "        encoded = base64.b64encode(video)\n",
        "        display(HTML(data='''<video alt=\"test\" autoplay\n",
        "                loop controls style=\"height: 400px;\">\n",
        "                <source src=\"data:video/mp4;base64,{0}\" type=\"video/mp4\" />\n",
        "             </video>'''.format(encoded.decode('ascii'))))\n",
        "    else:\n",
        "        print(\"Could not find video\")\n",
        "\n",
        "show_video_of_model(agent, 'CartPole-v1')\n",
        "show_video()\n"
      ],
      "metadata": {
        "id": "q364X-CU2RL4",
        "colab": {
          "base_uri": "https://localhost:8080/",
          "height": 493
        },
        "outputId": "7b8f5cdc-9190-494e-e941-1b806932e51d"
      },
      "execution_count": 20,
      "outputs": [
        {
          "output_type": "stream",
          "name": "stderr",
          "text": [
            "<ipython-input-20-3a44809871f9>:25: DeprecationWarning: Starting with ImageIO v3 the behavior of this function will switch to that of iio.v3.imread. To keep the current behavior (and make this warning disappear) use `import imageio.v2 as imageio` or call `imageio.v2.imread` directly.\n",
            "  frame = imageio.imread(f'frame_{i}.png')\n",
            "WARNING:imageio_ffmpeg:IMAGEIO FFMPEG_WRITER WARNING: input image is not divisible by macro_block_size=16, resizing from (600, 400) to (608, 400) to ensure video compatibility with most codecs and players. To prevent resizing, make your input image divisible by the macro_block_size or set the macro_block_size to 1 (risking incompatibility).\n"
          ]
        },
        {
          "output_type": "display_data",
          "data": {
            "text/plain": [
              "<IPython.core.display.HTML object>"
            ],
            "text/html": [
              "<video alt=\"test\" autoplay\n",
              "                loop controls style=\"height: 400px;\">\n",
              "                <source src=\"data:video/mp4;base64,AAAAIGZ0eXBpc29tAAACAGlzb21pc28yYXZjMW1wNDEAAAAIZnJlZQAAX4ptZGF0AAACrgYF//+q3EXpvebZSLeWLNgg2SPu73gyNjQgLSBjb3JlIDE1OSByMjk5MSAxNzcxYjU1IC0gSC4yNjQvTVBFRy00IEFWQyBjb2RlYyAtIENvcHlsZWZ0IDIwMDMtMjAxOSAtIGh0dHA6Ly93d3cudmlkZW9sYW4ub3JnL3gyNjQuaHRtbCAtIG9wdGlvbnM6IGNhYmFjPTEgcmVmPTMgZGVibG9jaz0xOjA6MCBhbmFseXNlPTB4MzoweDExMyBtZT1oZXggc3VibWU9NyBwc3k9MSBwc3lfcmQ9MS4wMDowLjAwIG1peGVkX3JlZj0xIG1lX3JhbmdlPTE2IGNocm9tYV9tZT0xIHRyZWxsaXM9MSA4eDhkY3Q9MSBjcW09MCBkZWFkem9uZT0yMSwxMSBmYXN0X3Bza2lwPTEgY2hyb21hX3FwX29mZnNldD0tMiB0aHJlYWRzPTMgbG9va2FoZWFkX3RocmVhZHM9MSBzbGljZWRfdGhyZWFkcz0wIG5yPTAgZGVjaW1hdGU9MSBpbnRlcmxhY2VkPTAgYmx1cmF5X2NvbXBhdD0wIGNvbnN0cmFpbmVkX2ludHJhPTAgYmZyYW1lcz0zIGJfcHlyYW1pZD0yIGJfYWRhcHQ9MSBiX2JpYXM9MCBkaXJlY3Q9MSB3ZWlnaHRiPTEgb3Blbl9nb3A9MCB3ZWlnaHRwPTIga2V5aW50PTI1MCBrZXlpbnRfbWluPTI1IHNjZW5lY3V0PTQwIGludHJhX3JlZnJlc2g9MCByY19sb29rYWhlYWQ9NDAgcmM9Y3JmIG1idHJlZT0xIGNyZj0yMy4wIHFjb21wPTAuNjAgcXBtaW49MCBxcG1heD02OSBxcHN0ZXA9NCBpcF9yYXRpbz0xLjQwIGFxPTE6MS4wMACAAAAB7GWIhAA3//728P4FNjuY0JcRzeidMx+/Fbi6NDe9zgAAAwAAAwAACNCLwW1jsC2M+AAABagA5AeIYoYAiYqxUCV5A8DrFIA5VkWnCGYQ7ZJmN2NvfrlyWNYJN8PBmF9WKaQscpeCYeBLcTvmkNSqie3wp+ITCy7WagePEc0PQ0beG6JdWlaCP/tJ1H+BAZHefJ2Z7CXsSlLUXcRMZI9L5sgfVwzPhujzWtz6JhbQnt1nAEMuaWNf42YAM/XjfwakIMblkdIEBLgGv6aKtWZi3MulN6dlfdkMDOurZRWfkQrohCm99AJYiAYC5kRgJjEOKvw6KjUgYSDsGlqPkbZU+JyNbQyTawn1IfYanw6HmkxDky1O7jzKl4zJzmUv/BTzwzqZmgpqHx/NmLIybbpGFDio2nNd7dJ4XF+5+UqRtnV7+G45MKZdzwGt9w+6QTuXC5pPw3EZ5xHi+HxT7UBaIRPJsPIWl8UwKMH/H8OrNbN8EmOlm85t2688t+cM58tY9lA35axzrYXa9zc/qYQlLYZgS1AHEJJUQmFTaqdwJYy7z6SlXX0h2gCSeG7QS0F2ZtH8TKZTgJSKIu3etpux5oqPtx2Vj195lKDgnCyW26uQxEviiN4kQPIn2iVAEyAQKdj7wAAAAwAAAwAlIQAAAIFBmiNsQ3/+p4QAABHT5fOAK2s58DkcygtdZnx9ucrun7ReeA3akriQWm8LBZQcNfX8gyn/uBkvjFrPD5hYnTipIrp2P1dTzopMaVUI3UkOl6FEWD8kai0w85EQwMw8zwrqnLbvqVSItRzRE6ApSMxysiz0ELicgpGTkwk52ASGizoAAAAvQZ5BeIV/AAAOf2vu8N16VRV8+7lOxSJZaYGbAQjr/EOwx+Gl7M8FTD0Z0MHhA48AAAAfAZ5iakJ/AAAS3bWj+YMmbQa0/R1/Jaxl1vaN9AHICAAAATtBmmdJqEFomUwIb//+p4QAABHVlcn0glzp2tinhko1MAd6myLOT432IN4sXoWf2mb9KJAm4tQ7pMXtRTBr2U9JunpE1MTGwkFFwL26deOBVGMjGzRyo4FLmN19Q5v9CJqnMct5gYOx9oXJn5JVcPG+o4LsM2ZqFxrNAtElzpBgBraWme3ETnQu80C4ja6jpezSle3hzcXvReNvaRKUNVWsQuECqLOiXQoFPUCDEfwPos/CVmi8zDjGExAY1pMTKKmcepe9pcszWT/hV9zF7Ovx0H3LIEdiEPWzyeYys+LfPcZnWO0dZTPWvS1P03CgzD7Kzu9gub8PX4vbFkEDZcFoOYiAiotpLaMuj0YBxYquzQQcHLhy4+nskZr8E6uOjByYMyFZA8wzmPbPSKpVjSzNJMwk78UGOpDz/+cAAABdQZ6FRREsK/8AAA6C1gSc6pybKpXfnLc0Wwh0bmhKi3VWMI88LWHM5DqAEjLESq7+syw/nJJW+Eg1w09Iwf1Y/M+R0o2++MPMwi4+eZfs4qZyAAAJ2LN6MYOIqgLbAAAAOAGepHRCfwAAEt9nrgX2JC/qHlygAljCvlMiKhCuJT2l0zMD/ny4BjxVVPOZzr8ZYIlbauFPa/IfAAAASgGepmpCfwAAEtuD0ZfwguxNP1ILgIDRfFM3cs9pYQJdL4OxMP+gbIbGyCmkD6zCfsUkWVDS0nsupDoJJPdodtZTaJJ1sJQQSdmBAAABMEGaq0moQWyZTAhv//6nhAAAEe6b1+wvIYabHtma4Aj45tgkOw8OcPIzv1yiR7sxbkKRxyc8CIBoSQ/17Odkdu3sgDagBb+04qb3M/4Y3N0tVMUZXIXgnO4BjzBYagN1QoxmhNfPy5txRAn1+bqxJg2BruiEZNvjXdGN1Vf1I/lOmP3OlXDlu2/AfE9JqWKfjMuDeY5R6w5Sbr6LBp3I3/my3X4fCEoXi8Lpt01oxBhGFBEsKdzC2RI2SRyfRlF83qPCzi1N2/BF7ftxEDcEyvzNHvXUpxv9a/6OAb7nTQY/XZECTIpBsUko9e6LQU/W1YNvgaSqCVV8MkqnGaHm59AUuEe3P23sOuf2dvq/VGeI1yERs75BlyKndk3qRjyIri+6ve89eHpyie+WBhSIBWAAAACAQZ7JRRUsK/8AAA6AEVM7FcEJU4UVffmGxJD44TQhDAQUP3rDNDAP+tbETObI2jxZ9Wdc/Xr+U05ii00VSI+1dsfQ9J4APcARKr+CAhRIgYAbjchmHGytTPCP4WpdJnG+ZKmlTGmqziWP255choOFiwqbykAAADY/ptQ7dx2WBbQAAAA7AZ7odEJ/AAAS1pPLu4n+FvlrUeYKZ6kwzKy2se2r7dmw+U/+P5y7wVccaoe6dicVnEIonJUrlgYP/gMAAABZAZ7qakJ/AAASS1zvOAC2ZvlXvcIcvzubi23C98UF+7FT2cWd8B0wG/uw76VdKewN22XK+XYthx9VyPfSfezuU00JjFFkZiMplKNV6hhnJAfKsiVLPY+MGzAAAACWQZrvSahBbJlMCG///qeEAAARWUie5wT+h7F1fI9TPh8lA7c+KWzJDYH9XHRIe3BZGmipUEJQRxBNrXRw9JcJcARlWfkyShHZ/h9svYJlXSYgNBHj+IYwabrcjZPk4y8QAHHE4kldienoiCIGpkx2SIik0S/YMKdCtyDMBvFxaSv+qnN8TGrEi4+B+MxVRi/zpzCG+qQEAAAAYkGfDUUVLCv/AAAOKtYZm0/oEfclZXoPvDKNgCgJzsjcDNn8fSeAXU6to4RT0ouj5BjpKc4Y+T3VpCgZ5+OzXIADedvikeFgF/T6bfWIsSH3K9AAAAMAGfGnZ5m5dfAIqgLbAAAANAGfLHRCfwAAElak6CG8ZfE5HNApS7fM5N9o3XTBT8QeUI5WieYvhstJbIgBCZhCLQZeEYEAAAAxAZ8uakJ/AAASXb31e6SiOfw3df/s6Kq8l68psivsLw8vA0sfXTrP0FBw5Sn6aH7S2QAAAIVBmzJJqEFsmUwIb//+p4QAABFUwQOxxrRkjJdQ0AJM6TQCQeF31VcdwBNWdSlsJsrvITh2F73qr82QLWqLNHWtSHk5TSavNqh79/HIM5El5hlQHePvsPBm5Dust9q6PcNbKeEyuqKidoMa6a7fUlpzPsogc34RARnrHiO5mVRt69K8BIr2AAAAN0GfUEUVLCv/AAAOJ2vq+G647aqOcKqEQjuDHDh2RC5G/99lnhMG5CtyCK0KAAADAAC7OelhAl4AAAAyAZ9xakJ/AAASXbRTgm6pmqf27ECzVZYaAKrydHunBAChgBqAV8cNWDW6QAAkJqALGSEAAACtQZt2SahBbJlMCG///qeEAAARYLO6S3NxQ5P1nqYFBIP/5f4a9Or4qiEAgBZvrVBk/f7BKiVoC47/ovK2/DltV0T9xBIoML/mKdglTHzvLia2xrTsDWGepCoM+bFBcsgq2LIqfFBNW3k/7I3GHU/4dTAM2Y6IEje2TuQ0+Tu92c22fF884lMTBWmKEAlxlmqgl0QK/DoNB/YzSdbow+5/SEr0eSCeap0SmtSTuIwAAABYQZ+URRUsK/8AAA4nQQxr5G7Hqcx2+xtDj+5bdWXIulOPoDCS6zb2PZrG5dsFrSsAhG0405GueAt2DbjhSOw0xwaRg2OTQT1OHtAAAAjw1dQsSi0cCxYD5gAAAC0Bn7N0Qn8AABJWk8wIkcmYtBxbnKBYjyWHbWHafmLsbIoxEefF1+bTytimrZkAAAArAZ+1akJ/AAASVzUOQ95nIO7ceWCv3PG3yB9SSeJNO+cynI4xmcmMSMpHbAAAANBBm7pJqEFsmUwIb//+p4QAABFR23r0kXMJAIPVMroM3GegqfOBtqZidzpq181HeHB/QbCaB8WVuwJj+ynFfYv8KIOWz1v4h++ddTssPzB96F8uChpddt+OmlO+iuQ+LdS5LarDj18afyaG91W+y8NMR4xH10h9c9oZY3uXRLoXpN92FXmkFq2AQW0m9kGO9/7vaA9MTHGnq8NG5wKGNwuuEVPCLu3ROvmaDBtgJRAMJkJlGEo6saoP9EGR19+dYIdCe2ZG/ZFh1LbZVZn5HVWxAAAAVUGf2EUVLCv/AAAOKr6JKRgFEVRcaLNwsuo4cWQ+MDQBT42JNL5mFLXFSWDLRIfRoYjKL8uiBHIyI5nN/8n9I+llpttMXEvEnfUVX8AAABPHcUuwI+EAAAA8AZ/3dEJ/AAASXmfdU8pe8hZh0Vj2mhReHDtTc8134jfpCdFxSsHtOWYn+eSAlSAlvgJS2bM3VVlKmm2YAAAAPwGf+WpCfwAAElc1DkPeyh0td0k5mrTxTOUghWbjaxMyQZS4ITLA8/TUR52q8AEtNP2BoV8bkh3Luhkv3uj2zQAAAKtBm/xJqEFsmUwUTDf//qeEAAARUf/jnSJz4CvU6Gnar2q6HgpEtFJNyXujFGPok8mzWYAIX7gnWxFenqq+ff/UmxJDniZxUGPmBMNnbB1RJ+n56ySdBoTduDMhSiQBlNzfpwENbXixg0TAbHGFwVqD5PDrw67AF0Eo/L4bx9fz/s7ap+1cXtMMfRLurYmWK2oB6BupgSGbDZuImydSSxz67JG4XIkakkyCeCwAAABGAZ4bakJ/AAASXSMq18YOV7ZVc8UHVfBDJg4OZSMrh1DH/F3HD+nHyzewDy9F+ecwIWu71R1jgjFxIgAAAwAAfw5PBqgMCQAAANZBmh5J4QpSZTBSw3/+p4QAABFVmKg1W5cOtfZjLHw6W9/lfKIAN9Kpzmce4qJgLHkbXOZxfTNSkvWvJ/nsVB31GSSbyIaxg74UWg/9gmokl1vSzXv7T0p9ftWNXPhE9IsCmObehgvLNj29i3SWUgA3Cw+CVK3DJYGLpJF0fydzuI01YEyDJWqEiVT6tOwONraEndr5cTUD06J+j9kNIreMt59wABzJqhoPkuct143ZxfzMWSK+o57H2W3je8mNL7exVqm5nYTgcCSCAB7qqdbeN8W8Sk7hAAAAVAGePWpCfwAAElM2QfgIa/RRbn740ABP8VaAXfZSCSQV0yI3nGo5j3tuXIverRxXtnfUAs4gI6nud5ikjfVeYqLD5ObDoYcAAAMADT7M6n5EfCA9IAAAAM9BmiJJ4Q6JlMCG//6nhAAAEW6b2GJDoaWKgBl1E9At4D2vbjdY6byFF2wN+kVKzEuqK0roarCp2v9SkM4WvBVniPT/MJdvpkhWOdTHBvH3M3GxUiRWEYB2xkst7iLcW4+A3zz1hiMD5L7AJHWqnoG//Ft/gq8dc5RVSQAWzzWK/n/Prwbp/bbGcfI34+Td546DEpWn56X3GXao4RNuco9iLO20O3wK/llPeRp9RvgG2nFFINEsDxWDYjnN2BArDMsCpZKlHvM/9KUkmKG8HMAAAABXQZ5ARRU8K/8AAA4oETubEdcvHQizde/br4iFzLrUEqruGHqe8JyAPkC3/ZrDrkvNbBEZ1th+HKSn8AEZSOHEhV4JK+Ah7D30zarXTZ+YAADxLYC/hAe1AAAAPgGef3RCfwAAElaZSPEXa56AgGzI8rQnIsR+0WF46BiGxPZLgW4gFb0Z2wGABlahA5GyL2ORWHXFIrX8RXlAAAAAMAGeYWpCfwAAEdz3X7QvphM8O1pG6jWz6TG9gUM42O9gRVdRPDLzZ01kXlPpD7NGYQAAALlBmmVJqEFomUwIb//+p4QAABDR3x4gAgrBAY95PWA2Z7T1PAYZ/EzlEdIovw4097LGWhILnkhRnTIWdf/WTaXbBP/9mQCRFI3WifD0WiMWqh9QFF6T3mpspmTzXjpa4oM8Ri7z+uSvEqxMNOH2rV4ym6PpfzX6gpYoh58QO+PokBU+1d1YJCfnFyH9LYSG/inqFJ6GC7fUsmbZCp4euqriixKiMtF78LkZDPaHoS4kk88I2mLyED9MFgAAAFVBnoNFESwr/wAADakOenn9KDVkGDF5gLaBekgWOwVlnvU7HfwvzUHW1CmbYLa/QHwnBOEEGmBuO8+GaLskFM5QwAAAAwAMW+8MRFefZws85kf8QHdBAAAAMQGepGpCfwAAEd0jGpVht7aqoDJe2VR+vVjLJjqsgz5U59Iezvj96RHXM0MIGTY5ccEAAACxQZqpSahBbJlMCG///qeEAAAQ0eZjt+vLFIveJzM96gApyR3oGInYdKIn9A6I5L2calBNFGEkvu7l/AngOrYPVpKLp/Gk/+lbzOKzTlJJJ0bYtlHR4RFEhjgHFPEvhvw1mS1th/gsnFSA8cm1nTnt7JHm+M8E++LpqULjMaE6zVAdrla91dlWMuf8V1KwXMJmzAvFsNgo4oXCUMooP3/gp+lwhrA4OlGDwUQ192bK5CeBAAAAX0Gex0UVLCv/AAAN0ARVboZgY16JsarTVN6+NGS2Z+Yo5z2sozlYmu4AFpRiHsag0VVIxWr9qa3WCuW59riOTtjwMCpHk371YbiSSNXgthpwAAADAAAHQbT9mqHFUB/hAAAANAGe5nRCfwAAEdWzFl62tFuF6XGPxu3gc6KrWAKDiGvmImMbkYFipTA9BEK+HaeGRZ0tKMAAAAArAZ7oakJ/AAAR1tbBBGtpLq+b9y9NW5ILB2NBLoGQVVowv7n4KOB3Gy5h2AAAAIdBmutJqEFsmUwUTDf//qeEAAAQ7pvX6KFCxFat81wh6D/YDRttE2EmgslwGEt+bqhbWEwSQ5aZ1EWy/rmADiXvs/8cJKAagTlNdQeZGQmnvQD3gqnyzuV2q9+/vG7l2+PvsmfKL4HT5S6ZpAXeCKUPRBiD/hVv35X8jJUIk9u6/NT8GMeuGUkAAABGAZ8KakJ/AAAR2IlnsgN0rtACO+PIrIeqIqMuCiStczqtR4793dYDVvO467pOiytEjTR72FRLA95UVr1mAAAN0NPq/qAu4AAAAHFBmw9J4QpSZTAhv/6nhAAAEFS8C5zok0AHSnI233ShNFfmD6qns3FbNDmDI7wY1/XxRDig8OT/5AzWG6kC8r6HS449S/srbPnE9J/M/eLIVONFB3CMypuaEqOi5RToaXXnqEEjVRJDf4Bu5S7hA6OCqAAAADhBny1FNEwr/wAADYAQdTGBHHD5ogBNW6DQA9NrEIX2gjCRxnILIEvutMwlfmWmADls6OGE1lgh4QAAADEBn0x0Qn8AABFeGfwjBE1R6fH9gATRiAFm5amvJXtu6i7pxZpFpBNfm80OyZQQBzenAAAAMgGfTmpCfwAAEVbWqeqWigJcCTQIAW87Em0uHXrQZUEla0Lb/24x3lpoZ6YXXjHhi99NAAAA1kGbUkmoQWiZTAhv//6nhAAAEFHgJS2DDqqJDRoAGzXc3lyIT8plUjsmQ/rH72XIbimsHOu390Cbv05h21aKKL83X99kdQvfFG8roE0pNRTqBV5kqEotw/4sqyMdYttr6AWMoKtGxZR77g8Bw8Eo1x05SxqG3mbB3Ju8/4NLIjWlq7cyxv9rpryzGRmqs0PDeCB9jq2JUMs0Ur5gLU9Nx120nVExOS/Xq1symX0wkYZeTpkK6cnZyjudSJHichY2wevFmA64cjgMUryjk57D042FGkac0xwAAABIQZ9wRREsK/8AAA2AAEzM6JnwWpcXDoWXQAf2mnMW9YPQeppiaEMz1Au3Vz3VpSQmmZ6Be6zZfoBgibdrvdhaAAIE3iSKoETAAAAAMAGfkWpCfwAAEVc1M6BgWsO39mEHbOYLzqhVUxpKshbfnmE+UDMBZnw38wTRFV74hwAAAMBBm5RJqEFsmUwUTDf//qeEAAAQbpvX6KQeAH3m5sv0WO51JQPGOdSBSKRk+Ft6wxlGJhOpVSFG3iozTJ8s1Vt8Kxp18fPLRqrpiU1ffUObQG0k6P/Ev1f4wEbwHU14fk4C621WmeFoWTRUQi+/ffbjiVgfnIHMfxNA2Tvf974q2PcKdw+lxLVMVY06lDBI6i3cdR+inYR/AlgCN9SbnGKyOiMWyjFf3OssfL7esavLS14X0d4Hr5PUsmo0ZKT1O8AAAABQAZ+zakJ/AAARWIn1K/Or/P75RnnygAle36prMy94E+FouND8ssbczhhK4OlF5mU59h10fUBGbRLI0OxIqzcmQF5eUgFLwAAAClqp72nBAZ8AAADgQZu4SeEKUmUwIb/+p4QAAA/aO1PT7mPCAKBAJvEpQN/prIeEW0i6Bw/DWVp4zxS85OSclXID2L6Eko7sUGqoQOVnez4f1xcjV9JhrQoijoNiJdUGxKQzsjIOM0tATYzBTRKDJi8fA1muzJ/93xemE9NcxVw3cr0Rev5FODbDtkoKfr7DDSWM7Nc6M+YPkRdKdahTUPqVh9K978WUVVWvVnvIh/VvJ7zIN3G8BGEuVjwA2QvH3vSNz+/q4qhJ8JRs3hy4f6CqephyFYiRRHgn+O3n3em3MXCL6eH7GnomlqMAAABLQZ/WRTRMK/8AAA0wAEluhBsglCAIQua/AtX87OzaLr/0xuwp3G/xY0gxG2zN7CCexXLvH2TyAJqgGK2y9exzAAADAAAd9Jd7UBGwAAAALAGf9XRCfwAAENWzbE5cs3lCjZfBKyWBZmHWfbQSQ1e3IYE8I38PllAkoBlBAAAAKgGf92pCfwAAEJ6WctGxqVbBO6LkT7CdIY1HwWkLg3Wos7DuPywS+/i6xwAAAJpBm/pJqEFomUwU8N/+p4QAAA/YI/OQAdJSOWlI83VU579kgFtIN0L7IKgtfPew3qIKdZL4/kPLd8cSbHFdvCe7uw0KeyA/XuvfXUmzVGGH7bgcEkB291E++9hSnQtoO0GT/JwYoFwDM/C8N6MzxDxkYajnxaOhOB1Cz+XXP5+CbY/qp780sPPFofziJGrsrqAe3oF72JT9SyXQAAAAPgGeGWpCfwAAENc1DkPb+CBo7/qavobubZClmjI0a02KAnbjTVYZyP66ACRNN+j+cAAAAwAAAwNSaYSN6gK/AAAAvkGaHknhClJlMCG//qeEAAAP7wnkpyLCACKw4ErTgHfrHA10mxsYivnv8rvpmTrfZwACdtjv8IzCbbuJxCqs6F8V21jQsfhWs9Ork7sCNDA6Q1yh6lsdWuzlmMnlY22eN7xzaUTrD6/A7zS/2mU+5X7ZfrqIO1ZC+ivWKoMGnSm4oiDniBIxVXGk7AFdFaT0LhZFT7YIWo9lwEZwkJlpxRdMn6l405MHBXNeb8e+p1k5EEuUVbJi4fKr5jb0nsoAAABFQZ48RTRMK/8AAA0w/jMPAb27emy+ehtDX9BF+Gg8dMRgHvEyGD3F5QDBoRrN1aYdeYu20pSetAAAAwAAAwEr6xniwIuBAAAAPQGeW3RCfwAAENWzaegkgK8mwVfMB7X33Yv/G+z1GRCKvzmEOs+DxAUBGrtIdkLI4ymovzat4uxhUzlTi4EAAAA4AZ5dakJ/AAAQXSNUN0I4+soX08nmMCNNGAkRxqZjK9uKTahTpSNhQuQHiBT6wTdsmE5SrJsA/tgAAADDQZpCSahBaJlMCG///qeEAAAPgjtUcSAOV5VH3qmP0wipchYiuT39yjigIFjmc1R/HU/D6hCSm8htpHpOUr7bLzFqKBaWc6xsZozC+H+8v5Q0N6oqf84uCGemoyvuw8UXFqHUaOOoBWQtMZ0lKhqe5ZpiuwVqqXryGbS5hywB4nLAeFj8II6fsy8ZwyQqL+Bg7ubRfoZNZ6e2oDQzlRG6hi8ygI+478fQqwbc1ecVXEF8xPMhqwvOzqYEGeFz6iZ2n4SLAAAAPEGeYEURLCv/AAAM4BB1MYGfDgj3qdw9dpGKqBcQxv1SKcPWxkjcRiGfjUEQPZ14pgAAAwAABqiveoCtgQAAACYBnp90Qn8AABBV4n/v/ueSXvm8O8FsNCpLrI3YB9kUGPtAFJen3AAAACwBnoFqQn8AABBW1qnqpysQ4Q6gyWzawUXmAQoAS2fUasfQMBUp84QydYStMQAAAJJBmoZJqEFsmUwIb//+p4QAAA+X9H06VfEWqkhUr78BBpbDZbaf1SUrnPUR2ikPNa97fIwPqhX+Gfm1vRy2J8B2pPubTU3P0L95eB3JvYqt4vgUWZhu8kugyXcPgDPa6HOcMBWVt2c9+9s0uIwachQjiXITVjUUSGNx8e6PLaL2H2AY28IzRwlO8yOvgaUkBFIxgAAAAERBnqRFFSwr/wAADOAASW6F/UeEpEI+Kp3tPLIVVe4povHE+VIfqlEdjZ+E76OPdOMI1yeet7dBsegAAAMAD2m7QqgKmQAAAFIBnsN0Qn8AABBVsxZeoq3JUysjyKyczxjzftzlV3dPUu/sWNViZEyBuua5gATq3bvuVzAZgM4i9ssEwmXHze0DiqFNsKeNd6jZdNi27zph3yBhAAAAVQGexWpCfwAAEFbWwQRtE0M4oksOzMKQqH8ApmKHpeoQGYn4MFqafABPBuD65Cca5cUTACauMS6nWTdAXht6zyRbGzoSMSeK+KAQEZRmDbNglDxPYacAAACjQZrKSahBbJlMCG///qeEAAAPlwnkprq0dkMAxShpaL3oZgbK9DepiNpW6k4sVeSlqNFrQF0E8RXjOQzfdwI20MERg/i5eEHPGSjH6IfvEZ9YoUXGv5XKtDihI57IF5GNqmdB7dQVNE8gxtK7uq4sMYGQUb+qMex2wiqi5ZSSTvBC25kbzgVdgsGt32iW2JBhA2gqa95Im5WPetu9qWnfmYoQ2QAAAElBnuhFFSwr/wAADJM9ibE4+y4hVfjrAoU+IpTAAN09q9b+CcJ3e98JmrpjEDaNvVJGIbS7uDjVhsHGCrPAAAADAB0/agB71QJGAAAARwGfB3RCfwAAD+QYjq6eivrWl/HxKeP26JAEnFucp2MjWkWrCpuclRPUBYVD7QJC5wgubiP+CFBctlE3ArgYKCDvQbtK4INMAAAAPAGfCWpCfwAAD+NPr9oVFx0A5CtnuCkKA82nuTHOKfWw4GOxjj/s8Wo4gAevF3hfhP/xf4gTxWAgWrDcwwAAALpBmw5JqEFsmUwIb//+p4QAAA8oMk8WXliFoADQiWKA5a9T+5Inx5WFrKVvZUkXiJZNVlJdi+eZMQUAb/3mD91Mk3YLOTCQ6spQupECAKKQBJStY+mic3Ihi5Iwba/IWcMPxptfqkob73HbrL4oEWMPVQ8HQdyXu1MVYoWSknoc+7thduIHF1ZDxs8CFF4FMtJLfqR7wLIpbSIlGcgSSqO0Qd0Lx88s6Lk9kYhvfwBvBE650LkLY7ma9sAAAABLQZ8sRRUsK/8AAAyQAEluhl/w1pwAF0Gs7Ljar+xdZ3cWxANhWdUuN8l3C8KblfgXfN2Q3sC/Ip48DxPpy/KZm3i/AABKwJPJYDqgAAAAOgGfS3RCfwAAD7Nl8fW9mBeXbk6App+MEXTUMyXp5S4lYpog3FuEcQASayNVlejnopfmaVEd0NfbGVEAAABEAZ9NakJ/AAAP3zW8hSvvJck9m9u5eohG/KA0RcdxBkHgPVD7MbUO+zIwAHAT+tAjntC8a7fx+mfJQapCNeTXewsadMEAAAC/QZtSSahBbJlMCG///qeEAAAPKDGh0CQFUmvPWgeboshfeH/nkCrEJW+zXw2YfzL0GWz10t76PwTt3/2mH814g34E9CJheXWI2xve77rNGrjqLbaX/mMnJ5Hj9nDDKOcSb1onMt1ntUgp0IBfX9/snvfmr8U6fdzyJYuPf0eahZHr1U0+E0Q5VTydIK9ujURXLih1j8zCiyt1mUVIWE7VFA8JEwmgl0gkYd+sJzTBTVFIlmBpbDvT+RIdcJbA2XEAAABIQZ9wRRUsK/8AAAyQNQxr6LHlMp9ApNWg4k9xsQd4SDvBG6MJiNfzmQJ6fuO6bOP16l63011Z8DSjiubv4VgACHB0ztKW4gFJAAAAOgGfj3RCfwAAD+Pjap6y6JojH4HyMshKAEl0RdJurzto/U+UjxAMr+wMU10z+QtVPGkm5FRaOLFePSAAAAAxAZ+RakJ/AAAP3NYhL0OhVQAkuogA/KnQsl6gL9XdAonCZWlpnzvWRLGH+scmdLBUwQAAAGdBm5ZJqEFsmUwIb//+p4QAAA7QLwuQAFbS9bhdX3nbvfuDqlsgSq8HGa14M8Y3tasPzrwluytXlR4GnfQDTxHtSZeOwtWCqotoOAA/3Vi8dZgXMnND8ZxIsc4n5MnB4nu0xHwaq3WEAAAAS0GftEUVLCv/AAAMQDULuMNoYABus1C6puiYZ0S7FWHEnc1PBlig8p2eBWXwNZNOHTESj/usBpbqJ90Nowa4pAAAAwALgpCUM+ICygAAADABn9N0Qn8AAA+L421eXe53LBJ98u4BVf+eEI0aAElhtCKWPkKgOMWsjWBNF2uM18EAAAAtAZ/VakJ/AAAPhzXVdc7kHyvWIdl+57t0jOarPKAEjwaweotSJJxtaJI/qHXQAAAAn0Gb2kmoQWyZTAhv//6nhAAADtLtxzjvNm/0O6MmvH2yGADMNt5wO3Zik/W/viLBQIE6TasEcCwemahXBl817tKm/fXubXvEvo5ZcEZdOS6YPnTlbkWvF2AChdu+vLQSkdkN4Zj5XmuSSd5i4Xj4Vr5ZnHB34pKw5eHqsddIZym8pfMs46kmawfOh2b9HIGLSllS9wbx4bbPsxM0x6RNqQAAAEFBn/hFFSwr/wAADDu5EkF9G+edJ5pizkS9wbFV0OjJ8QlITxdT/Ju+RE0BBms+x++dAHlWhgAAAwAABJqA6lgQcQAAADgBnhd0Qn8AAA+GLhlIt3MwoABdW58vfbj7dBaMGZsx97dTCluceY4rP9pCTDzzxa08l3+U7AyBYAAAACsBnhlqQn8AAA+LaiBYxEsXY5aiEy5dockm3NHatrTyLo08RmLQkGMnWLdJAAAAeUGaG0moQWyZTAhv//6nhAAADtBEU9KDIBqn9B0g7dDDFMKN2nia5xeizB7vGzdK4aEoix3LyflNO7xAql17g4P+Skw4nNS6s1uktUWYDXEBm/jqTrllcksKvn4h3Idyye95O/Oekpgf5lL5NxjcW20ptR3MqXfGlHgAAACDQZo/SeEKUmUwIb/+p4QAAA7n9H0L3dzXb9kUbesmaYdJAL1Fk3o9BP6LaYsJWVAG7uWPzHTJ253FrWOgH8ODd3CeOLMXclrCgeuziR8n1Qs1GMBBx3F/Jck/mPQhZBMFkxUUOegogy0GBMJWKQDsBexEgxQoo0MyK0Se9jsX4vVmgdEAAABKQZ5dRTRMK/8AAAxANQus41kiiAEvSg3t0BV+YR4ejsROutrpv30mPx4Hum3JM6H/38NcidiEwRTYJVKIB+2qQ7oewGdfXrcuA9sAAAAnAZ58dEJ/AAAPjBg7QMHItnayLOZRTbbztYdW5ZfPna6G2iZW810gAAAAPQGefmpCfwAAD4TWITAAfb+3NfBzAC2h9yYbJcV0myvGj34Z4IM85tX36UvBi1lb8UHmRV7wlRmTM6IDIYAAAACPQZpjSahBaJlMCG///qeEAAAOejnETYeeXAZd6HQj93TQ0qmapii6MwNMXpXpaIyjnAcbJtUNM03CRFBl7AhbnKMrkViKkgrhb6PJxEOrKSDNHacManYzM+VafCVzSX8RMzN/zuHMM+WrmTJy/N0uSLv1XrLnCBhwcJ1t+WsQI+Y9xglJZ9YL7gbPSDfmdhUAAABWQZ6BRREsK/8AAAvwNQKh6Ru2NBNtBWrv+cNkyQhCI44uOhv1rNkOZQxH3AZGW3hkQpZ15oRt9lylEwYFjZQ+6jasYSU3nZo73Unz+hAAACIn2NtwhJwAAAA0AZ6gdEJ/AAAPLgVsTlzSMGXhOgcZ4pxW7E7UAJLIFsDwW2aB0MbtHA8u/NkYANuozk3JVQAAADoBnqJqQn8AAA8vNbyFLiAAC2h4TtC5C96bbaUFnenOsm3Ro3wDn2/ku9YOqnQhD4+zNSVMmoh5Aa0EAAAAhUGap0moQWyZTAhv//6nhAAADngvFHUAmjYeXnDmEUO8AtmcfzbVtRe9RRZ4a4YDnVD/LD4Txs4P9LEjeBGUQGWppaxxTuvU+x6R3ehWHCRI4qluP9jsLjJCWCKbZndLDoOlUdll/AYlJOKidcW4Y/XDufP/C88Q2jmpXjn7H0MlLoduo4EAAABDQZ7FRRUsK/8AAAvruZ6bT0nMsFVwBUMTybyJOB0EA7QUkNcXprLSeak4sMCmZl2MpEhPywBYoSQAAAMAWcG1xywScQAAACgBnuR0Qn8AAA8uLhlIxdrBF7CUnYq7qFIZ34y/O6N8n6ekj1hlgYOBAAAAMAGe5mpCfwAADzNqH3a+wgL/irfVJY268yVQZduG2O4z0yJqZHMoUCftN6Wua3rK6QAAAGxBmutJqEFsmUwIb//+p4QAAA56OgYElXPvidTb4LsouforafANWWPiA3mt5WSB4BiOyZA8wQaYoSKtzJiTFfbznEiQF8XJ97rrH5FJ6kc+LbERmAFe7VkjxqPcSGfU+Ln/0eL/AKB5ft7L04AAAAAzQZ8JRRUsK/8AAAvwNQxr6LHklhGFMEO7TyMrAe+6esaWjo7ijCpPERf8tO0IEo8SmoEjAAAAKAGfKHRCfwAADzQYK99PaTOrLtM0F+TUAr+9whQw/8GgzpY+NmpcHSEAAAArAZ8qakJ/AAAPLzW8hSvvEqglTd61AfY0LW0m8oFpw7dlXt05KSo2H+dCwAAAAKVBmy9JqEFsmUwIb//+p4QAAA6PCZxmXhY0YACl+eXSJrYjTm8iZGP7Zt96JY5xCqGrEF8TBLdptw5doJ3cdk/J9TzucHmL4rKz7t2rIXPS4YfDsE/TBUuOme81BtCfVEn0eFfvr21pGNqrwXeWdG3YpWdY8k9vOZ7AxilfCgsSHRlyVYAD73C13KaYevxURieoAP7GEsQYqnafOG+qkKlGua+MqeYAAABIQZ9NRRUsK/8AAAvw/nMhp1jtcyghdiBGEyCKg8qRuXSxDZ0AAt0AJQI6khvr/13iLqOrfsgQhOY5idywgAAACqZ2uCFTCB3RAAAASgGfbHRCfwAADy69753kPILy3irTXzV5chLm2Dyj0Sp4byrThV7+stv2Y+OJWnu7SYSIagjircAEAzyJWuIy/oJ2LrZN3/Bok3mBAAAALgGfbmpCfwAADtc12M1NWyJff4scX+HPvSEhcpc/FiQZc06kTVOHui1EgOUUDzEAAACSQZtzSahBbJlMCG///qeEAAAOIu3C5MfE51IjdeekZe7/qACpc4miWK3LF6L9cjnAYgMziB1MYLvzvMrUDa3Qp0v2mUeiOfWBufiBRm4KBCW+fnLMLvXeiBQH0G0zeUAHKhE7wc1n+wkJNGZZGw/apIHWutE0h3+Vr1UtTrvpQuRBbekmQ9jlX4++mChpCaO3wOAAAABRQZ+RRRUsK/8AAAuiaQfcVVZeLTAGRg90Uc6Is7hWmVxyjQgAEZknb09n3iMe+B/+YcbVkX/v6JUkoJxxzeRZA97brxr1GmETOAAAL42SFg1IAAAANgGfsHRCfwAADtwYYZune4mnN5qCs0HXufeWiNoQrPBUxiVQt7t9yKvCTnisvE3SuXDoltAeEQAAACkBn7JqQn8AAA7XNbyEYKtqC38H0kopeGE1L2NYzYQApP/HTdquLL4GYAAAAI5Bm7dJqEFsmUwIb//+p4QAAA4gLSTkAHRgE3GXueJX7+lnki2ILfVhJg4ZscjA8epSw1nUA3Gylcph70MWst8cemyeeDgsRDWznAVEM6P1Wxc7tE3si2C7ENZtF9rKYPp2mE6qs7aLS06WqJnx5Um5m76u+hWaBksqaUm45kmKQlcRm5w1cLOiF9FwiOfmAAAAVkGf1UUVLCv/AAALopQlqS58PKe7BmIx4Vv4BACXqPpWC7yIxKxmH4oO66oIT9/OUIbBGccvfvHT+3W1jLjjFPNdSGJWjFw14SZbT++vgAACp5hYAFNBAAAALQGf9HRCfwAADtYuGUjF2r72dTwTJtMpoWQjGM9p5URjetp9oX5dDADXRr1eYAAAADYBn/ZqQn8AAA7XNMvbl/klWXF3epRNLt23PNGBZPNlLoBBGU+27hZ4nPkY0uEF0y+rTW+s38EAAACwQZv7SahBbJlMCG///qeEAAAONwnkgenZ9LIsRSi5JtnKp0QAAKivNvgadtfxa7FDO8gVcaiylG/kGcMV8eq2zP+DIEk73eWC1NTI/KuF2VYc1cPjsb/0bkfUfFfy/GtistZ4HuUW3HtdngzOu+tiGpTVytgS98kTLC7hydtUkP7l8dPASOXkphSm+uJkEa5EYYz22oTWOWreQDSXaaZkjKT09J0SynG43Zdws35aIYEAAABrQZ4ZRRUsK/8AAAuillp+RPgW5TzppHUAiOMdTQR/3yB3tW8SKaDxXOrG4vMgAbepnggGPEC13AvkQMp6PLDoN53hgGwgUMYos8tyVjm8m9nhBBI8H59Ln6YB+BcLZwWAAAYH8rsbNWwgccAAAAAsAZ44dEJ/AAAO3Bhhm6d7Zk4UGs/U3VCAClcwBG8iJX6XRYm1KfrzIopVgPUAAAA/AZ46akJ/AAAO2DkJi9RqZBw4d7ww/CerIiR2ErcMYyst3VoNpvbzFAxeC3qGUk2zeBh1PT88zYmlhrvAheI9AAAAkUGaPEmoQWyZTAhv//6nhAAADcuyCBJi0mB6a5H+u/YaR+iQOmTz4E06+8PYJyBzN1zUEbWdarslaT20/bVyXzjMjWUK6Pdcm+Zb649rJRTkt1EtWwNow5uk10UMAwfqRl9Qc1GMSo0gSbyrFVgjGlFkpH0HxuDO9djAfjAJ+UGJt2hUleNO6EsP3/xmSJaVOEEAAAB+QZpASeEKUmUwIb/+p4QAAA3LoFDwVeE5C4mBPL5UMhaABc5l5HqP/R9t/W+nHZ+7Bfv/Gr1PXON6VQyAAfu2xq4DnFo5W68dMqpJRe3ful7hkAsfab9ML6N78WyLOr78M6/zpOAZrsref4+rKdhfl25Zb8R6fp8FuA+Lvi1zAAAAO0GefkU0TCv/AAALXS1saRI3QFGJLRCIsPvF1AmyHOdM3W0a89i0R7rRc6sVdZ1jmuAAAAMALdjjUOmAAAAANgGenXRCfwAADoQYaN3wT+kRmULDP8O7aS7crlclKN+9SywIxFXSb54JS0X8ZYJCUMxjjsYPQAAAAC8Bnp9qQn8AAA5T6+Y9gGybLgM77OXpLWV3y6/3K3Cr92wUOjHj9SvWNGt9avSU+QAAAHFBmoRJqEFomUwIb//+p4QAAA3LnXcPA4BfM8ZYXqHvDthsSypl37inhf+javwUk4TjktVuLxM2MnZxB2N79CCb+/WPCBaheRjaa34VnIdw8Ffy+63WYAwklt00LDQy5M6174bT/BoBYpAn52vkDtlhHAAAADNBnqJFESwr/wAAC1qUJakwseSPWuvR+c0+yyI8waUdwFug3R0h6Z9ySlyUnB+0kZo8QWUAAAAtAZ7BdEJ/AAAOhBg7QNH4zMzAV2NOMlsH6Ov5JKN8OL6MQG0K9QpV/KYx1AC4AAAALAGew2pCfwAADn81vIUr7xICu351V6AEtqm2z2rRbf4cLTuhyTGaicCzWUDhAAAAo0GayEmoQWyZTAhv//6nhAAADd8J5Qk8NMzw1/cRpoOVnbcnomxACCO/u7w05bStJ4/e+zZm7di3BJIVfz0S8Xe9C8gG4teZTxH4+OKF4zK9ROEJIDNVRc0U3ff1EbBWc3D/8+BuP5SowHiDepiTYQL9aAPQrLdnZmlDE8NDafHHaB4zmaA5T6wpuvjhxwaT0rvg6cgaAp2nCQRuamVaz+YBBVsAAABjQZ7mRRUsK/8AAAtdHhFw7KynFe+jFACS5q6tLE6ITal7CNrMfrz4YOzHK5tGuPJegn7PP6ZEuDteCz/qyjm5OE0XmoBFQtudSiA2lz2BKMvZBdKBt8AAAAMAy+J61tvuqgqZAAAAMwGfBXRCfwAADn4uLIw+ZrjAWc72dExcmLvgdWxzx8D7/Xpui2CDeoNCsmatU+1RZLCc5wAAADkBnwdqQn8AAA6AMxpkpBChZOSyghnqw9zZ6gBJdGTLsRat15K86A1heQuvKeraU0DGMt9/u5zHScQAAAB1QZsMSahBbJlMCG///qeEAAANfYHMzgdzNoAoy43yA7ldor6AKJ+ZqLXjvBYd3DFT1T3inVYQmcP0mEmr8q9IoMYnxwZCiAftmKIFhChDnqTpiBzRR4l29+DJ/Wn8tbbv2K7V2lA4RB5Dnyr93P/5cMKF8o5QAAAASkGfKkUVLCv/AAALEpQlqTCz4ov/aAgKS6P/jdvPAUA0wIrIRD5Tb5WuFhXnY922NIKSOVKrqgCOzVG/4XAJ9eYWWFREmDR44Qm5AAAAOAGfSXRCfwAADiwYZun0kYXrPIyd/SQRXS4dXbhQAksJanDu00LE6ca5Vbv18HyiTwngYIQF1pvzAAAAJQGfS2pCfwAADic1vIUr7xKoxdrAFcS1L++ZO05PulxErv8/5DgAAABtQZtQSahBbJlMCG///qeEAAANe6BKoAHQ4DTv/R2gFj394Pm5RwIYmI/47rsr1eItX6Lp6KQcbLxLbPHqhsDhyibz01SlqliBk5bZuYm3cdqFw4wJJ1Be6vm7YPracjIxYTp77B/oJJaQVhTu0QAAADdBn25FFSwr/wAACvAIoFbHYHdnlYltiudmNLeAJw0IctcNEHONJjzmLf+CAAADAA79PJgXYILbAAAAKgGfjXRCfwAADiYuGUjF2sEXt8g0vIuM+m5IumBy7PwA8DVIegovKA0GPwAAADcBn49qQn8AAA4m72EJcAq4iYxBx56Bj86IoIcldrVABc92FTn7s51rCCxUc2noY1bBvqWXabz4AAAAjEGblEmoQWyZTAhv//6nhAAADX2CHS+qplAFyqm8qi0lhzMGSCnUQ8PnMDd6SI/69/CnbBkapH4bYuOJm8WqWZqW9zXbmXld2sry9UC3pMJpC5uJhpVCCFk4u+7CyP/brADqBP0joe7L0XtIZqaDi/2/9z61q7TxNX6EFo+4ilfb+caroGuwPLNNalwQAAAAMUGfskUVLCv/AAALEpQlqTCx5JYXvCc9Co8jK/iBjULjHghea3BjwHSxiABM4V3EFtEAAAAmAZ/RdEJ/AAAOJi4ZSMXawRe3yDS8i4z6bki6YHLzmuAzn64nQeAAAAAvAZ/TakJ/AAAOJzXVdYDJgP6NpAI6ncHt423dv062AD4B9mlfx4ag6QR7jADuRpgAAACZQZvYSahBbJlMCG///qeEAAANjwnlCTHZlHgif8UqfLHs/xVpjFeh/WngNX/XPXGcwhYUJGwis95tDUFYdLYsRslYnI1MvSUGMQP2DaupyCu6cZWwyaYAw83KcFmC+Ek7OEuspaZr9YGAsj3QRgc01/HvtAjYeTKlVWJxmvfWdb1X6cmEURV2TU8logiii/pQH6Bdup+cUmrxAAAAUUGf9kUVLCv/AAALE0QPNZYbS13IoKNpCAgUgtVSPpM3yt1eXkGYAHG2oHNj2PC52niCIeUZDHm6GuWUh/0JTFa4vJfVo6PpjgAB2es0KZgjYAAAADABnhV0Qn8AAA4mvgxvyjcb6zyeSEETwuKXf/qcau2NyEPnVQdd4acBdPSxFj2dzx8AAAA0AZ4XakJ/AAANz+aaxH7Xgz8DCUYzyrLZlTt6fd3qBcK0G0qJS6ITR7CdB6+U81urJPYRcQAAAG9BmhxJqEFsmUwIb//+p4QAAA0t9jjmjpqQCabf1X/gZ0V9htexteKR4cqVm4zWiLkbkgKvXB8iRTKWwuOMM8PAz4RY7XoEwoiuwNDQJ2vOMiVx3OPH5iEIEmYwGe661iJkhzI/6MSVQLnFJwb61IAAAABCQZ46RRUsK/8AAArKaQ5SFRBEvsztrPHk1F/mLS2P3/2vQjm3eDe6ci9Jwy8fiClGusilIxJd1eEgAAjt9HjOggoJAAAAMwGeWXRCfwAADdQYYZuDURfcIjJGAZv9WB3O5Dajxrm9nJH021Gw2Wmh9bbssB1COQvFIAAAAC0BnltqQn8AAA3P5ochw1kk+Si80QVwwmGiGAks5lTUdbT2u92OnX2YzCu4I8EAAACUQZpASahBbJlMCG///qeEAAANK51w2TnBkWXnUv8sk02AEtTj1pu/dDhm0gn232ErLKAR8/jLerW+1JO9OgjmarMkuJOBZJ77ssmNy1uEA8YZiWylcysS7aER3iYpLCyUWRjENCvTeLreeNpp9VsmYSbBwFFdIJV0oE2xPFg36WEbHUWR0zrurI9jjCxZKiTB1ewogQAAADRBnn5FFSwr/wAACsqUJakwseSWGfwj3wNPIykNW2eJ+ihxbd182x7wQuoD1cAAe2541hTQAAAAJwGenXRCfwAADdQYLDVXJA6rLj07Z9rsJkO/ebwt1wEwelk3aKzGPAAAADEBnp9qQn8AAA3P5och4KwJAC31cHDIBNXHwe6Jmvai2d5md/LmlkAkFrnKrpncADUhAAAAkkGahEmoQWyZTAhv//6nhAAADT8J5Ka65YYkYrP/NutN5oxOtYnV872qMLAN2MoRODVXm+BFsh8FOkZ51PFTwwZuS0st6PHYlVmK3FPKcbDW+0AERdsIki/A/U0BLs+/iaDi7a67EU17HSgcQYZDg2ih2jwxD1jCsb5w3hS1SwlK5xLHO0+xEjgA9Aj7XV2RHZrAAAAAXEGeokUVLCv/AAAKyPXMehv/T755ACXp/ric+r8PZSHBcJUClX3atvRna9cbgtR8F+IUxq1ANPIrXBwmnYAVibl34Uv6lfk5FkmBbaYpB3NAAAA2Pr5CpPD9aIHTAAAANwGewXRCfwAADc8uC0jFzaRdJeapJ9Y5Jf1ACS2SqgVsmFm7rJQgo4UaRtV1KXBtUiVSV8aYQLoAAAAuAZ7DakJ/AAAN0Jwv11NEXFlWHhq0HvYlmDdZHOehFpv1LsA/D20Gc25iyXiUDwAAAHpBmshJqEFsmUwIb//+p4QAAAzjeChRovnqQFB8sYJgKAN4TUn/CgeK/inxAIhEuauQit2yXTYJ4tNj/gtuX8jvZjCv8aAmA5tWlIVidDbMM/vfk6fZT6M+HCk/4rWtiaxNTZn7erMYGkGiaQw5ccFmloTRAICV70uZBwAAAEFBnuZFFSwr/wAACoKUHOLlRylpPFlQiiPXFhOZXb/F77TR0dAkGT5IYAWz1Ji0iwMmpO7ZpJcAAAMAADIHcwILaQAAADABnwV0Qn8AAA1/LhvcNAJbr7cYAF0VLGt6o4AkwBIivujMuLvFbUE7qt9+4ssVug8AAAA0AZ8HakJ/AAANf+aHIeCl8C6VSeBRyjUAJRat6iYSOBkqKMctzu+oOxAK37Ce5X9D6khCXAAAAIZBmwxJqEFsmUwIb//+p4QAAAzboFDKkqAWTkuKW4mz8V1CatnFwFm3mDQcMyDsQoCCeHWZTo5NW/xN8GQ3qnCqtCrIeWMjph14ScsHn8d7jz5wH6jZaKdYOdioYEq4d3PXz9S5ych16VYEAwqJetVfx89+ZRdfjFRdS4LnllgQyE8t6EkRhAAAADFBnypFFSwr/wAACoKUJakwseSWHDwkX09PI3FulGM+U4Xtll1ogRO5Wj1lTafCWFlBAAAALQGfSXRCfwAADYPjV+afDyvDpaJeKFY7+Ql7G+9Z4af1uFXRZwUqa1nPMt098QAAACwBn0tqQn8AAA1/5och4KYTALFJaEzobWCK9zwACdzWla6XcLcDi24IAouUIAAAALVBm1BJqEFsmUwIb//+p4QAAAzv9H0YrN7JeJgJlyUCrBmLUd81NSRkVNzYaXI0eXhGq7vhEossqSygQn82J8f0JLf8VqC9R8hudsZkZM56KPBZBDRY/7/WF0k0vI/YW5jmewdbrtAz2/191kthMQrEasZGMAF/p6YxF32pf/p8l8ZWKVg6UKLbBOy3F21G6UIN67iaYiFDFpn5dNv84bCxoyhL/rRM4JeJyk/3tatIKIyu8lmBAAAAT0GfbkUVLCv/AAAKhS10Yxx7x1EANh+R+XyovUKhaQq8uV8EzR7aWooa6gNEx/FFloXzQlov49r6gijCdPqJBURXB8ozYAAAAwA3I65ILSEAAAArAZ+NdEJ/AAANhBhhm6d7dntDW3f9iuOgnM4mHkePaDSWnOdvCpcH0vgJ2QAAADcBn49qQn8AAA1/v3N9RrxFlyTsD6ccDV4tRXSJuvZAALZ/Kg4+6pq6d0Z+50ZV3BpW9BIgFmbgAAAAnEGblEmoQWyZTAhv//6nhAAADIuddw5HB1pi9K7hABbMu2pUQ0beOK/GV7TZFMvq5IprR3AV+4BtdPAiV9PPYacgTKNgFvbkmyg7988gtWgQ5kpOde3Js1GREVsVyGMDQAY3hkIrHtsXZMxOfaU7Etb6hKEfZPijG7DN47MwksjvuCqmA2qAk+BhKVcVHj9iI1XiKQ0OR9V2vb6R7QAAAGdBn7JFFSwr/wAACj0+fMrJElr0h05SADiqbE8dajSyQXtcux0tkXXZCXpCVT/FuKL/avzf0rdMgStsjYROjYagqY9cFl0Ka8lQ0bQdxsHvlmsN2WKT5n0UMqIEV1GqqAAAtXajqgoJAAAALAGf0XRCfwAADTTGS4buJNcHifvJMr5yI+nH1/YRssIAS8RaWrjtJgaSyCbgAAAALAGf02pCfwAADS/mnS/iILKxxWAzzAIasU3oGAgfbWVyWOGXrG1Wjc/meVuOAAAAZkGb2EmoQWyZTAhv//6nhAAADIuetNkAcoTOQp/c327kMAp7n408p74EqSgHdTKJtRJjqDIaNmdy3aoEnSkdrRHYYxLzu8F6upi/EcVrIm9fgj2sT4eW1C666pSQaeporHx8+VErMQAAADdBn/ZFFSwr/wAACjqUHOLlR7GIz/dIx9Xjs00PU/7Rf6arVWhHgiHgaHmcAdjADUBvGoKuKCpgAAAAKQGeFXRCfwAADS8uC0jF2sEXv0fzQvuog+RiPwO9uRUjvttduUO93hkJAAAAJgGeF2pCfwAADS/mhyHgphMA2Un1fKbttxCxh/ZKx+KT0Cd8q9kJAAAAaUGaHEmoQWyZTAhv//6nhAAADIudcNlksACNw0xranmdTnbU6gxsUO/Ohhn/wF/4ZLeHuAuuUzK8iq5Y0w2wnEGNdOA4VZxMzzog/L+dIptkDLFYwNy/a4BGRl1q4WERTJwAVWuHKcLhmgAAADpBnjpFFSwr/wAACjqT7/tJBgfzZoNHasXQL/lM9dzRe6mjiv+/37ofkSn/jvnuBWwAAAMAYs3mhEHBAAAAJgGeWXRCfwAADTQYO0DR9oYzDU0BCuLsQJLLZlesthzQkQXwKZPgAAAALAGeW2pCfwAADS/lva1iaPoa/sNDZX2AKpKiEHWj7reXVmpqt32f9l3uiA3pAAAAtEGaQEmoQWyZTAhv//6nhAAADJ8J5Ka65YYlQ08ztIR6Iq1ZvEuogAAsQtj1XWqEu9ggThxrmBFSBFjriLWczueQ7CXPq36eSDAwdrZa8oeZ/IZBqpoI7M7zdNHAd81mTsHACzBLuu5b7uBfwgAbGg0tM3U0QvU5nNVBNG8NNiwFOKQFji1HHX6wPbeepCM+VotlTItwwT2UqIjQHtJD86w3Snn4D5adF0kvI9E/Y/vGuiNEEQAAAIBBnn5FFSwr/wAACjtIxtNJN9YtAO+DALApfgAJ1UyahVYXZQVAej8365iWABJ2GPvqTX8mzjutli44O/v1RQVLLkVFmFaXOFS+8st6FbaLyf1TGslq8XIwxt28sbI5Z193utHzZFepInmwLvv8xL66OGqaK4AT286pVWhM9VBdwAAAADkBnp10Qn8AAA0vk+XSiT2oMLCADYYmyMBR19Jxf1w2NL5X1chA9HIVrBEk+KcRyrPkvqvfMClzxOAAAABEAZ6fakJ/AAAM40/A7fcDe40ALcMyIn90DCDupd+Q9hhW1douGOxxOs1zKMa/0FQaN4UpTmE+HcnZdmRYg+WBpJ1MXj8AAACFQZqESahBbJlMCG///qeEAAAMPYGqCn4uAhBP3KjQ286Lx+HNSSWAyqLbcnWyk4GK9w8Q9AqSPwP8w/a/NnQ7/9KS+kuFz7n4DxqO8YCa0KRZJZvit4JqzBd2kVXLgNCeZQknqTqRRWzeW2b1pZKJf9iuLJF9kpSAKTTFdrrkFLs8E4qfgAAAAD9BnqJFFSwr/wAACfKUHOMCMig4jQoVnEMGBIoLd5aQv8V63oOE6Q4sS47XlI4T6tFKbkKnGC6Jdxf87a1CH+EAAAA8AZ7BdEJ/AAAM3y4Z0IA2Gs45jAAuiYPdjqPeX3YdgUgX5xU+p+dn9H2A+GgUggD2NATsGi/9V9MXrinAAAAANAGew2pCfwAADN/mhyHgpiLb3WFUglMGYubJTsqagBbZhu24XNXhgubi7eglWvN0ePTHynEAAABdQZrISahBbJlMCG///qeEAAAMO51zwVeDoQXJjMC5Lo1vOygANWWyq0BfEmhBaIa/wElzM3JrK1Ulup222L8P1yOcfzt9Z0C5ac4WpKiYLQH0oIk+HhumhENnxUihAAAAL0Ge5kUVLCv/AAAJ8pQc4wI444JUKfd2ApFT/M3cvkM3Ur4t2OO37SucOuNR1YMDAAAAPgGfBXRCfwAADLt81h9F23U8CRwZp10Q+lMGccfdNyNAsDwQTKqglypgpbAAlTizrmztnG/V9+dbVPB3U5NdAAAAJAGfB2pCfwAADN/mhyHgphMBAUeXcy32MSvNwKH4tmxwadVlYAAAAKNBmwxJqEFsmUwIb//+p4QAAAw7nrTZAUOfnoUfBlAHV+OY1eTX/bDVioIAYfafALWh4NOJHn8vVzBzA0SlAyDlJpQghY9sFrXl3wzDyrCjcXN936fNc1Yz1Gr0SPBpbT/yX0Whj8lecvAU2EzoeWHqReG3G10aaghhEAgeIMfuwcwAuWyABa+h8dkjSAOR4oHMgcoqbXec1pM3E0e2ifBk2rOAAAAAMUGfKkUVLCv/AAAJ8pQeWfpM87swijXRBSF/eXJoYgt38pqpKIxUw4n8AAsV8OsILKEAAAAnAZ9JdEJ/AAAM3y4LSL2AOCOzoASXb+FC2umdDZb38nhpoVBe0GVAAAAAJgGfS2pCfwAADN/miC8okQ/oigeXcy32MSvNwKKisro4cCgtsAvAAAAAkkGbUEmoQWyZTAhv//6nhAAADE8J5Qj9RMPDXu2XThtupQT2bm0EBIILh4qk9bmU8cgQJ8eDn3x1mpDe0B81S5JyJ9vPE6l9NlXeJCtVXkuZljbqTzxbi/Bnn62btJ7Cht/5J4QYoYkQ/yAxcyCOsIvgs0ddcTDzMdQUO3zPCQhaFMucI2g0NxRRCzT92DPPPxIhAAAAPEGfbkUVLCv/AAAJ80QPS3apAZB4EFGg01PTyNQcmTseIT6uV/DqS3oAl3j2XklwzRkBMekROuZx19EFlQAAADsBn410Qn8AAAzeCs8nNeVQQK5jO259Wdkrbbj98MpAwtuJ0HniX0Xr0De6LIXMdlgW5fAydYHcmV50IQAAACcBn49qQn8AAAyP5s0CHXDw0sRYtFRxAbEQRqilBuLXniOS1fuaJ7UAAACAQZuRSahBbJlMCG///qeEAAAL6a5m9VUgDeRkDKWp5Ytrvt7v0sIfdU+C6xHOpx8SoPfznUrdseZk7/DdwhMGzZYJltQHd1J9S6iUDZy7O4uphOcsdF5HXWnPdiO+K/Ppq7TSQuecTp9in91XckNeWjI5up0n2PP0QxP1QsEW/IAAAABmQZu1SeEKUmUwIb/+p4QAAAvp7fEde6QTAjhmpdgWocYHkp1pFiVPUdF2qdWHYSnSUCmASWkjXW4ycVuRNnToM/deGWs+0Rs2xrSf8bSs+nUkQpGbFVP3mVGtJUtfUHCigwRHQrZhAAAAUUGf00U0TCv/AAAJrn51B8DzRAlSyAM92p8F1SKxaw+iBinDhg9pC6BxMhaI8UdqDNWiVrSRctouizDX43Q/Ugij43pRR11v9vJTmAZA9jxJOAAAAC4Bn/J0Qn8AAAyUvxfZtAJbxVACWl4AMtg2QpiHGgTYJb0RT+gr0hl5BZBngM1AAAAAKgGf9GpCfwAADI/mhyHgphMBKUfniwH2LzB+QAatBSvML9rE8KzQAfHpXwAAAG5Bm/lJqEFomUwIb//+p4QAAAvprlkscQ4BNV6ewdRZkLlyRxOAPbufAvwVQDDWbw/tM+Pbssa0S+tinojhr/bWFbOM7zgNphw28nA21RPilNK/qHuoGW7CBauH6cgg+AKgUPxzv+0rcvHEmuUUQAAAADpBnhdFESwr/wAACa5tcTW27HVceZgsKguP9UKevi7ni9DudrHmr/PBqc+orBSZCzgSAAADACSbKyHdAAAAJAGeNnRCfwAADI8uC0jF2sEXxEfuBruM95s9uOBy7PsSCCpiSQAAAC8BnjhqQn8AAAyP5och31ab9kyf/d6qEnWhXozH2UDaoDD8LWowa/+LDdUE4A7NQAAAAKVBmj1JqEFsmUwIb//+p4QAAAv+vfgah/T8E/uu7K++XWJiZRwAsF6jv8rZwjzjMbsdadfT5Zqn6WmxJONx2ZD0wwjsUb5UrQq2kBAsDVcC66FyE71r64IlTIqOcUe25nxHXXDkwSeKI7v0JhcU/LSWnV8bOUUsOGTl/QxJ2T+XSmHgAQ9jU6pS5Rsba9/DI0Flnr6KVN1WGAsQluh/0R109f0t8TcAAAA+QZ5bRRUsK/8AAAmr1CWpLwLC+6ZHG2cWg0SfzxVGG+dbwsbEQfTOxz94sL3Yof3wBqYWSTx8WDALuaOlD5gAAAArAZ56dEJ/AAAMjy4LSMXav59BEvDG4dkLuKBnjwrML+Ws2Ph1+v0O+9+iSQAAAC8BnnxqQn8AAAyP5ochyqmrVACS6pz4bzTtP1LMw7flmPyisdyqIdjypehTo3rEkQAAALdBmmFJqEFsmUwIb//+p4QAAAv/CeSl31VAEb/AorySa+gjB2n7gP9nK4T33OUz9JdHxZOCzgoHjnzO2zcrBiLxcYd5x/Q8eIJ+XVCuFGQoR4kBXNhc1TmJJjl82U58HeqzIzXREayTuZsEF+HhbRhTh8dKCisu4Nhne2Ld4YwQjY1Z9Qu8AiWb2sG7ZzL2JeAlbdt8cgyFqh7BZuF3yxlta40qUbmjqKla6sQxCqqfZiZjYZ/4OXwAAAA/QZ6fRRUsK/8AAAmshDopLF15m8AA3WbJqQJ4+xosMaMGh9LdpoOIsrx0/dPQoIPNeg/+h5DQIqBVd3cNVMqAAAAAMwGevnRCfwAADI+TkUXJjiTJYztKC0ATCTB5AlIvqwAC2YbzH/b6Z2DiUm7PscLgIyA1JQAAACoBnqBqQn8AAAxDwFMIE9chC0iVyBn74vV5V+K4wQc42+huXU1SMNXMocAAAACKQZqlSahBbJlMCG///qeEAAALpsIiCTfh562yqs9UACxAB0s8G0Ygj24IgGjz/t0mXMP/ExtfN5FNoqEMuf8KEwD/E4Pvuls0E8CJzrqh1Oiyb3xhl4mApt1v/jwVVJ0vHC/xYaPpFAqqjWLI8MPOivU8Uxq0VN1Fcy9ttV9VTSdTzJWHp6lsBXsVAAAAPEGew0UVLCv/AAAJa9Qc4wI444JZafbAqpFTWqVLeqgbBdYIcc/HQCRM4TAczfzIH2DJhtWxAGucvwwq+AAAADABnuJ0Qn8AAAxD41fmlWdTODBqAElx1N1+sKPgWgRWNEGyrQnlZw8ABxujZ6ZaDMEAAAAoAZ7kakJ/AAAMP+aHIeCmEwFVRxScgfrN/Af94lbOohgZWAP35vyq8QAAAJ9BmulJqEFsmUwIb//+p4QAAAueHXMoOOZ7dy5IhBgAbB2ftBvOAQHParxTQQgAy9stcrECVydaeAlSr9CBhRsqRPTMNtGaCDmjoh9d7WOCIDjn1kd1tFITAgGQrrqeJmKP43wNX/R48kk/yqqcwA6RmyPpr/qcokgTUIK6mL2FFV0BeEhei28RT/P3i19EHXjcICaHmZ9F7m9hBoZPO0EAAAAwQZ8HRRUsK/8AAAlr1CUAwGVHhMIijnHp/1FLuCMJc0SSjKOkdTNWVC17awgFUQkPAAAAKwGfJnRCfwAADEQYO0DBybjfc5UAJaUyY2ZQPBxBf3+/0fVOHi5cYpUiFtAAAAAjAZ8oakJ/AAAMP+aHIeCmEwFVRx+cAfYx09GGW19Nncd4hLwAAABpQZstSahBbJlMCG///qeEAAALnh1w2TnBeZ7+oAcILFfB0V0pVDC2tWqUx8429TzSpZlnLQiyOnXIlumb8e2vUOzpuzqizpySnVTzJ2AGLh6cor+oAmplYyITxNOZCBXzHRBBLSEExkmBAAAAMEGfS0UVLCv/AAAJa9QlqTCx5TEq6eBGBJ/vBrQB53c43oDSNMxlKrCpzyjrR7BBwAAAACkBn2p0Qn8AAAxEGGGbg1t63kpgJ08VLyogjr+HfyqlzLy3TlHMra4XcAAAACUBn2xqQn8AAAw/+snd6N2vkSIjNH1Vog3TFAGi0pexAc08XGhBAAAAr0GbcUmoQWyZTAhv//6nhAAAC68y7FfvDmUk26SXxSpDABbMu5W0WKSkvYEIUJX/Q04v+b1cCumZId3iA0GC9UXirqcUlO9uYP5E1EBnhQE5FkUkDZiN9Pi1rGWRi734lkgljWHHr6JlbcWN5sz69G9cM4MbDmgP6gxIkym6eKcPNvsfqHwooX8kwiD0rOiAtxcf6LeVyh37MYB/MbI+yhG1luUTZvqbFvvEiQAOWOEAAABPQZ+PRRUsK/8AAAlshwF5/V0M4a4vxy/A0PQg1sdXeglYne3k5OlyOmwtmpOLpJe9SFMH7FnXnUoBLf2yYJCo5/+gAAAIR8uxfurSVdRVQQAAACcBn650Qn8AAAw/lqR3UCfE2knNt/OXMu01tH8zlNpMX979RhuvgfgAAAA1AZ+wakJ/AAAL77dpXVzwLhIR3ybqY4YvQLDAxml5PwB3t/6t005uAEE7ctHE08d8Z00vFMAAAAB7QZu1SahBbJlMCG///qeEAAALWAJI+YX9NJPQAr2xaZFokGLAAVSNzZZybXs0ZFD4xUT7rs7lum7r8v7nsjxc6drScm303pnd1o1VoWA1iQtF82WWaFipAE7+GXhh3KX/yoPMcT9R3+dnbM65eqdkkHYSzX1EBWtGv0rJAAAAQkGf00UVLCv/AAAJKRu/z1SUC4fnrAZtPR91CFY5tw8qurNSn02UlYzYiOroFc2BmlXr8tougdMGFB3Kho4dWFl5UAAAADIBn/J0Qn8AAAvvLZ9Ei8x0otY5f97b7CS++MW9sligFtrPyq7gBBwHTC21My+iJFaDcAAAADUBn/RqQn8AAAvzaiBRwKQS5thREwBWfcDHHOUOmQNFTVsRNYMqAd/Ore6Hfe9KP0P77IfPgQAAAGNBm/dJqEFsmUwUTDf//qeEAAALWACUNwgUll3F90i8rZQdMAOL5dYFyPOTu2ZL/pvQKAgOVEuzW3MQifL/ofvN9zzdmaoCBpNUVwcb0lXSSnfXLLhFjJM7w7/OPB9L4ooBA2AAAAAyAZ4WakJ/AAAL7+aHEJnhRTFSZnuoX15gioAcgBkGpvyLAKg/zUS8jzgAAAMD/y4pE3EAAABJQZoZSeEKUmUwUsK//jhAAACsROXOUOZTcUJHyQpe5IkZ+R+T59cXeaLEJLsIYNaDX2nwaoANhatgXwtytna7CCH07CHZY4Cu7QAAADsBnjhqQn8AAAvvt2B/nBvZlrLAUT3RLL5wAC6vO00OozGPNvbrPUVwoUv7GA8tvi+f1/SKsHNv8H3wQAAAAjNliIIABD/+94G/MstfIrrJcfnnfSyszzzkPHJdia640AAAAwAAAwABR4e1643dg1tJ0AAAGsADpB/BeRgx0CPj5HCnPt5wgc0lssj/cJe1AwADir0XVCs/r2uedHuT1gKZDu5z3gLZI3/RIKxg1TnCXxxfeFwLe+rTuen3FFSGE/haAhLXAXU+MgUyjvQbPj7/V4XD+6aS2t7bX+x/AyKvrMJlWLp3CMFK3aUXr3HnKsY1npTzlIiZdFG7HnhzxFltLfVSDRQykl6aSEqpePvo9z0QRD1EExsy3o9+V5lwKKHOWM57Xe1IV1qhY/Ul4WqqJVab+uxrzcWYlBnnglCBj63kPB6rWDQn648LhegB3HSvIxjGPZsm5JlaBh7sQxSUPSf4BNnBl1urVBtWVZToEtLQtlKzsmdZDAjjoA7TkmRBW9dedowfucUQ0jo7y+lqZQk/sN4ZQOBP7RErFl6Lk/SsbDMfIOpmNnxRPS3SD1/eQGQK9E+OxSLFOc9bsPvTl4x1/0V9ln3U5bW5FAG86yzfOLQjUKVwaPYtQblU6DJSEE5uXd2SWyILRNTzA4hHMum6BiI8PKVHk/CGxRwUckcs+68cNS4QUkklSCtyQnXbqbDcjAXcfZ9CMl/xfLq9mkwj3RvMRZbw5mKZ1dXTRKkgAVyR5izDD1Qqn3ZjmRPbLfwYxdyMaodo8Wk7N5Hmj/spfX+xDjE7Bcf6cAAAAwAL206qAAADAAADAAADAAA3oQAAAIVBmiRsQz/+nhAAACx8y52eZGRdvYtmOsRLVEAKzo5UxN4DPw3vATWZaNk5TO4UrRvwUhjRnhZz+5FtsPtpH+6VZnYmgyMxrSTKBODmsPx2ee/jfN8s93B3yp9i5GqtLoj/DybfYlm7XeWr0Fqh1j2EOHgUccHfGgzEYG7f/lKwKPSjZe7gAAAAOUGeQniFfwAACSyHTJ33Mz5XaVqnvJYxEW5NZy/RKXPFbDeiPjpqjBcdPaZESfAL3Fw46a9JgNG6DQAAACwBnmF0Qn8AAAvvlqPKMYV3f6fhwZFJNkOTPsxiwpsafBgAfPQ1jRfSxL31KQAAADIBnmNqQn8AAAuiSxiynhs1TKoxP0sBMyWwMFTezoKFyZsbRv2drgA08rA3DkTMro/xYAAAAHtBmmhJqEFomUwIX//+jLAAACt1G/j5gBGNz/mEuPrqjGFP0uncUmx83550vqRbAYdIPD49jQ4PBadNjg8zWdAuHi9MEcb8gWCK4i+XX1CBEy9NXerHbywmSAMD7W3Sk6zBrgVKnZk4s7vpZ+BJsobMUo45BP9wcGGoLhgAAAA3QZ6GRREsK/8AAAjrqfJaLXwwj7qaf8KnC/teWA2i7DC8WamGu+tA7fE60iUr13NK5B25ke+8gQAAADgBnqV0Qn8AAAuhuYsRoL9pE3hJbwlTyKLrlaKH6phkUv+Hop9ukMqAB+n4ruogaYtTuOi48syCjwAAADMBnqdqQn8AAAugYtTcPP/g6TB/BIG6SYJ09nAq75ekfepwAGtcRdIi9enem5mjzuwcNcEAAAA9QZqrSahBbJlMCE///fEAAAMBnfTH2WIbon4Ah3J0LTMVEXVAPAiENWNCRRJKQNyA6WIsySbOLr0yExlbDwAAAC5BnslFFSwr/wAACO6AhAwAjCQYNWYIAiwqk4Q48vUzpeEBrBnmaL6jRF/uMkS/AAAAKQGe6mpCfwAAC6MGhByEADgTJ/FUFEwi7ztKBZ884w01PnAJJqpyIb//AAAPNm1vb3YAAABsbXZoZAAAAAAAAAAAAAAAAAAAA+gAACIeAAEAAAEAAAAAAAAAAAAAAAABAAAAAAAAAAAAAAAAAAAAAQAAAAAAAAAAAAAAAAAAQAAAAAAAAAAAAAAAAAAAAAAAAAAAAAAAAAAAAAAAAAIAAA5gdHJhawAAAFx0a2hkAAAAAwAAAAAAAAAAAAAAAQAAAAAAACIeAAAAAAAAAAAAAAAAAAAAAAABAAAAAAAAAAAAAAAAAAAAAQAAAAAAAAAAAAAAAAAAQAAAAAJgAAABkAAAAAAAJGVkdHMAAAAcZWxzdAAAAAAAAAABAAAiHgAABAAAAQAAAAAN2G1kaWEAAAAgbWRoZAAAAAAAAAAAAAAAAAAAPAAAAgwAVcQAAAAAAC1oZGxyAAAAAAAAAAB2aWRlAAAAAAAAAAAAAAAAVmlkZW9IYW5kbGVyAAAADYNtaW5mAAAAFHZtaGQAAAABAAAAAAAAAAAAAAAkZGluZgAAABxkcmVmAAAAAAAAAAEAAAAMdXJsIAAAAAEAAA1Dc3RibAAAAJdzdHNkAAAAAAAAAAEAAACHYXZjMQAAAAAAAAABAAAAAAAAAAAAAAAAAAAAAAJgAZAASAAAAEgAAAAAAAAAAQAAAAAAAAAAAAAAAAAAAAAAAAAAAAAAAAAAAAAAAAAAABj//wAAADFhdmNDAWQAHv/hABhnZAAerNlAmDOhAAADAAEAAAMAPA8WLZYBAAZo6+PLIsAAAAAYc3R0cwAAAAAAAAABAAABBgAAAgAAAAAYc3RzcwAAAAAAAAACAAAAAQAAAPsAAAgYY3R0cwAAAAAAAAEBAAAAAQAABAAAAAABAAAIAAAAAAIAAAIAAAAAAQAACgAAAAABAAAEAAAAAAEAAAAAAAAAAQAAAgAAAAABAAAKAAAAAAEAAAQAAAAAAQAAAAAAAAABAAACAAAAAAEAAAoAAAAAAQAABAAAAAABAAAAAAAAAAEAAAIAAAAAAQAACAAAAAACAAACAAAAAAEAAAoAAAAAAQAABAAAAAABAAAAAAAAAAEAAAIAAAAAAQAACgAAAAABAAAEAAAAAAEAAAAAAAAAAQAAAgAAAAABAAAGAAAAAAEAAAIAAAAAAQAABgAAAAABAAACAAAAAAEAAAoAAAAAAQAABAAAAAABAAAAAAAAAAEAAAIAAAAAAQAACAAAAAACAAACAAAAAAEAAAoAAAAAAQAABAAAAAABAAAAAAAAAAEAAAIAAAAAAQAABgAAAAABAAACAAAAAAEAAAoAAAAAAQAABAAAAAABAAAAAAAAAAEAAAIAAAAAAQAACAAAAAACAAACAAAAAAEAAAYAAAAAAQAAAgAAAAABAAAKAAAAAAEAAAQAAAAAAQAAAAAAAAABAAACAAAAAAEAAAYAAAAAAQAAAgAAAAABAAAKAAAAAAEAAAQAAAAAAQAAAAAAAAABAAACAAAAAAEAAAoAAAAAAQAABAAAAAABAAAAAAAAAAEAAAIAAAAAAQAACgAAAAABAAAEAAAAAAEAAAAAAAAAAQAAAgAAAAABAAAKAAAAAAEAAAQAAAAAAQAAAAAAAAABAAACAAAAAAEAAAoAAAAAAQAABAAAAAABAAAAAAAAAAEAAAIAAAAAAQAACgAAAAABAAAEAAAAAAEAAAAAAAAAAQAAAgAAAAABAAAKAAAAAAEAAAQAAAAAAQAAAAAAAAABAAACAAAAAAEAAAoAAAAAAQAABAAAAAABAAAAAAAAAAEAAAIAAAAAAQAABAAAAAABAAAKAAAAAAEAAAQAAAAAAQAAAAAAAAABAAACAAAAAAEAAAoAAAAAAQAABAAAAAABAAAAAAAAAAEAAAIAAAAAAQAACgAAAAABAAAEAAAAAAEAAAAAAAAAAQAAAgAAAAABAAAKAAAAAAEAAAQAAAAAAQAAAAAAAAABAAACAAAAAAEAAAoAAAAAAQAABAAAAAABAAAAAAAAAAEAAAIAAAAAAQAACgAAAAABAAAEAAAAAAEAAAAAAAAAAQAAAgAAAAABAAAKAAAAAAEAAAQAAAAAAQAAAAAAAAABAAACAAAAAAEAAAoAAAAAAQAABAAAAAABAAAAAAAAAAEAAAIAAAAAAQAABAAAAAABAAAKAAAAAAEAAAQAAAAAAQAAAAAAAAABAAACAAAAAAEAAAoAAAAAAQAABAAAAAABAAAAAAAAAAEAAAIAAAAAAQAACgAAAAABAAAEAAAAAAEAAAAAAAAAAQAAAgAAAAABAAAKAAAAAAEAAAQAAAAAAQAAAAAAAAABAAACAAAAAAEAAAoAAAAAAQAABAAAAAABAAAAAAAAAAEAAAIAAAAAAQAACgAAAAABAAAEAAAAAAEAAAAAAAAAAQAAAgAAAAABAAAKAAAAAAEAAAQAAAAAAQAAAAAAAAABAAACAAAAAAEAAAoAAAAAAQAABAAAAAABAAAAAAAAAAEAAAIAAAAAAQAACgAAAAABAAAEAAAAAAEAAAAAAAAAAQAAAgAAAAABAAAKAAAAAAEAAAQAAAAAAQAAAAAAAAABAAACAAAAAAEAAAoAAAAAAQAABAAAAAABAAAAAAAAAAEAAAIAAAAAAQAACgAAAAABAAAEAAAAAAEAAAAAAAAAAQAAAgAAAAABAAAKAAAAAAEAAAQAAAAAAQAAAAAAAAABAAACAAAAAAEAAAoAAAAAAQAABAAAAAABAAAAAAAAAAEAAAIAAAAAAQAACgAAAAABAAAEAAAAAAEAAAAAAAAAAQAAAgAAAAABAAAKAAAAAAEAAAQAAAAAAQAAAAAAAAABAAACAAAAAAEAAAoAAAAAAQAABAAAAAABAAAAAAAAAAEAAAIAAAAAAQAACgAAAAABAAAEAAAAAAEAAAAAAAAAAQAAAgAAAAABAAAKAAAAAAEAAAQAAAAAAQAAAAAAAAABAAACAAAAAAEAAAoAAAAAAQAABAAAAAABAAAAAAAAAAEAAAIAAAAAAQAACgAAAAABAAAEAAAAAAEAAAAAAAAAAQAAAgAAAAABAAAEAAAAAAEAAAoAAAAAAQAABAAAAAABAAAAAAAAAAEAAAIAAAAAAQAACgAAAAABAAAEAAAAAAEAAAAAAAAAAQAAAgAAAAABAAAKAAAAAAEAAAQAAAAAAQAAAAAAAAABAAACAAAAAAEAAAoAAAAAAQAABAAAAAABAAAAAAAAAAEAAAIAAAAAAQAACgAAAAABAAAEAAAAAAEAAAAAAAAAAQAAAgAAAAABAAAKAAAAAAEAAAQAAAAAAQAAAAAAAAABAAACAAAAAAEAAAoAAAAAAQAABAAAAAABAAAAAAAAAAEAAAIAAAAAAQAACgAAAAABAAAEAAAAAAEAAAAAAAAAAQAAAgAAAAABAAAKAAAAAAEAAAQAAAAAAQAAAAAAAAABAAACAAAAAAEAAAYAAAAAAQAAAgAAAAABAAAGAAAAAAEAAAIAAAAAAQAABAAAAAABAAAKAAAAAAEAAAQAAAAAAQAAAAAAAAABAAACAAAAAAEAAAoAAAAAAQAABAAAAAABAAAAAAAAAAEAAAIAAAAAAQAACAAAAAACAAACAAAAABxzdHNjAAAAAAAAAAEAAAABAAABBgAAAAEAAAQsc3RzegAAAAAAAAAAAAABBgAABKIAAACFAAAAMwAAACMAAAE/AAAAYQAAADwAAABOAAABNAAAAIQAAAA/AAAAXQAAAJoAAABmAAAAOAAAADUAAACJAAAAOwAAADYAAACxAAAAXAAAADEAAAAvAAAA1AAAAFkAAABAAAAAQwAAAK8AAABKAAAA2gAAAFgAAADTAAAAWwAAAEIAAAA0AAAAvQAAAFkAAAA1AAAAtQAAAGMAAAA4AAAALwAAAIsAAABKAAAAdQAAADwAAAA1AAAANgAAANoAAABMAAAANAAAAMQAAABUAAAA5AAAAE8AAAAwAAAALgAAAJ4AAABCAAAAwgAAAEkAAABBAAAAPAAAAMcAAABAAAAAKgAAADAAAACWAAAASAAAAFYAAABZAAAApwAAAE0AAABLAAAAQAAAAL4AAABPAAAAPgAAAEgAAADDAAAATAAAAD4AAAA1AAAAawAAAE8AAAA0AAAAMQAAAKMAAABFAAAAPAAAAC8AAAB9AAAAhwAAAE4AAAArAAAAQQAAAJMAAABaAAAAOAAAAD4AAACJAAAARwAAACwAAAA0AAAAcAAAADcAAAAsAAAALwAAAKkAAABMAAAATgAAADIAAACWAAAAVQAAADoAAAAtAAAAkgAAAFoAAAAxAAAAOgAAALQAAABvAAAAMAAAAEMAAACVAAAAggAAAD8AAAA6AAAAMwAAAHUAAAA3AAAAMQAAADAAAACnAAAAZwAAADcAAAA9AAAAeQAAAE4AAAA8AAAAKQAAAHEAAAA7AAAALgAAADsAAACQAAAANQAAACoAAAAzAAAAnQAAAFUAAAA0AAAAOAAAAHMAAABGAAAANwAAADEAAACYAAAAOAAAACsAAAA1AAAAlgAAAGAAAAA7AAAAMgAAAH4AAABFAAAANAAAADgAAACKAAAANQAAADEAAAAwAAAAuQAAAFMAAAAvAAAAOwAAAKAAAABrAAAAMAAAADAAAABqAAAAOwAAAC0AAAAqAAAAbQAAAD4AAAAqAAAAMAAAALgAAACEAAAAPQAAAEgAAACJAAAAQwAAAEAAAAA4AAAAYQAAADMAAABCAAAAKAAAAKcAAAA1AAAAKwAAACoAAACWAAAAQAAAAD8AAAArAAAAhAAAAGoAAABVAAAAMgAAAC4AAAByAAAAPgAAACgAAAAzAAAAqQAAAEIAAAAvAAAAMwAAALsAAABDAAAANwAAAC4AAACOAAAAQAAAADQAAAAsAAAAowAAADQAAAAvAAAAJwAAAG0AAAA0AAAALQAAACkAAACzAAAAUwAAACsAAAA5AAAAfwAAAEYAAAA2AAAAOQAAAGcAAAA2AAAATQAAAD8AAAI3AAAAiQAAAD0AAAAwAAAANgAAAH8AAAA7AAAAPAAAADcAAABBAAAAMgAAAC0AAAAUc3RjbwAAAAAAAAABAAAAMAAAAGJ1ZHRhAAAAWm1ldGEAAAAAAAAAIWhkbHIAAAAAAAAAAG1kaXJhcHBsAAAAAAAAAAAAAAAALWlsc3QAAAAlqXRvbwAAAB1kYXRhAAAAAQAAAABMYXZmNTguMjkuMTAw\" type=\"video/mp4\" />\n",
              "             </video>"
            ]
          },
          "metadata": {}
        }
      ]
    }
  ]
}